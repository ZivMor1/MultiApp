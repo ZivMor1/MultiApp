{
 "cells": [
  {
   "cell_type": "markdown",
   "source": [
    "# packs"
   ],
   "metadata": {
    "id": "9hPeoixg18Eo"
   }
  },
  {
   "cell_type": "code",
   "execution_count": 9,
   "metadata": {
    "colab": {
     "base_uri": "https://localhost:8080/"
    },
    "id": "TyX42n6PwF8B",
    "outputId": "c40ad0c4-8126-4e1b-d4ca-1d2777110484"
   },
   "outputs": [
    {
     "output_type": "stream",
     "name": "stdout",
     "text": [
      "✅ Libraries imported successfully!\n"
     ]
    }
   ],
   "source": [
    "import pandas as pd\n",
    "import numpy as np\n",
    "import pickle\n",
    "import json\n",
    "from datetime import datetime\n",
    "from collections import Counter\n",
    "from tqdm import tqdm\n",
    "import os\n",
    "np.random.seed(42) # Set random seed for reproducibility\n",
    "\n",
    "print(\"✅ Libraries imported successfully!\")\n"
   ]
  },
  {
   "cell_type": "markdown",
   "source": [
    "# paths"
   ],
   "metadata": {
    "id": "BY-KhGJP15Vr"
   }
  },
  {
   "cell_type": "code",
   "execution_count": 4,
   "metadata": {
    "id": "TSE42aw0wa4C"
   },
   "outputs": [],
   "source": [
    "main_data_path = '' # Adjust path as needed"
   ]
  },
  {
   "cell_type": "code",
   "execution_count": 5,
   "metadata": {
    "id": "_qPSl7auwQ_L"
   },
   "outputs": [],
   "source": [
    "data_path = f\"{main_data_path}/raw/\""
   ]
  },
  {
   "cell_type": "code",
   "source": [
    "# Save processed data\n",
    "output_path = f\"{main_data_path}/processed/\"\n",
    "seq_data_file_path_parquet = f'{output_path}/seq_data.parquet'\n",
    "\n",
    "# Create directory if it doesn't exist\n",
    "\n",
    "os.makedirs(output_path, exist_ok=True)"
   ],
   "metadata": {
    "id": "nubMVey_4DmU"
   },
   "execution_count": null,
   "outputs": []
  },
  {
   "cell_type": "markdown",
   "metadata": {
    "id": "Vzz9Q6SDwnQe"
   },
   "source": [
    "## Read data --> Load MovieLens-1M data"
   ]
  },
  {
   "cell_type": "code",
   "execution_count": null,
   "metadata": {
    "colab": {
     "base_uri": "https://localhost:8080/"
    },
    "id": "TFm9bVsswF8C",
    "outputId": "37b1eeac-de81-40c1-a494-da1c9ace59f6"
   },
   "outputs": [
    {
     "output_type": "stream",
     "name": "stdout",
     "text": [
      "📊 Loaded data:\n",
      "  - Ratings: 1,000,209 records\n",
      "  - Movies: 3,883 records\n",
      "  - Users: 6,040 records\n",
      "\n",
      "🎬 Sample ratings:\n",
      "   UserID  MovieID  Rating  Timestamp\n",
      "0       1     1193       5  978300760\n",
      "1       1      661       3  978302109\n",
      "2       1      914       3  978301968\n",
      "3       1     3408       4  978300275\n",
      "4       1     2355       5  978824291\n",
      "\n",
      "🍿 Sample movies:\n",
      "   MovieID                               Title                        Genres\n",
      "0        1                    Toy Story (1995)   Animation|Children's|Comedy\n",
      "1        2                      Jumanji (1995)  Adventure|Children's|Fantasy\n",
      "2        3             Grumpier Old Men (1995)                Comedy|Romance\n",
      "3        4            Waiting to Exhale (1995)                  Comedy|Drama\n",
      "4        5  Father of the Bride Part II (1995)                        Comedy\n"
     ]
    }
   ],
   "source": [
    "# Load ratings data\n",
    "ratings_df = pd.read_csv(\n",
    "    f\"{data_path}/ratings.dat\",\n",
    "    sep=\"::\",\n",
    "    names=['UserID', 'MovieID', 'Rating', 'Timestamp'],\n",
    "    engine='python'\n",
    ")\n",
    "\n",
    "# Load movies data\n",
    "movies_df = pd.read_csv(\n",
    "    f\"{data_path}/movies.dat\",\n",
    "    sep=\"::\",\n",
    "    names=['MovieID', 'Title', 'Genres'],\n",
    "    engine='python',\n",
    "    encoding='latin1'\n",
    ")\n",
    "\n",
    "# Load users data\n",
    "users_df = pd.read_csv(\n",
    "    f\"{data_path}/users.dat\",\n",
    "    sep=\"::\",\n",
    "    names=['UserID', 'Gender', 'Age', 'Occupation', 'Zip'],\n",
    "    engine='python'\n",
    ")\n",
    "\n",
    "print(f\"📊 Loaded data:\")\n",
    "print(f\"  - Ratings: {len(ratings_df):,} records\")\n",
    "print(f\"  - Movies: {len(movies_df):,} records\")\n",
    "print(f\"  - Users: {len(users_df):,} records\")\n",
    "\n",
    "# Display sample data\n",
    "print(\"\\n🎬 Sample ratings:\")\n",
    "print(ratings_df.head())\n",
    "\n",
    "print(\"\\n🍿 Sample movies:\")\n",
    "print(movies_df.head())\n"
   ]
  },
  {
   "cell_type": "markdown",
   "metadata": {
    "id": "DOZoWyAkwF8C"
   },
   "source": [
    "# Step 1: Create User Sequences\n"
   ]
  },
  {
   "cell_type": "code",
   "execution_count": null,
   "metadata": {
    "colab": {
     "base_uri": "https://localhost:8080/"
    },
    "id": "WaLqY9vKwF8C",
    "outputId": "5bf76d0c-80d6-4fc7-ce79-50c05c0bc0ea"
   },
   "outputs": [
    {
     "output_type": "stream",
     "name": "stdout",
     "text": [
      "Creating user sequences...\n"
     ]
    },
    {
     "output_type": "stream",
     "name": "stderr",
     "text": [
      "100%|██████████| 6039/6039 [00:00<00:00, 7760.25it/s]\n"
     ]
    },
    {
     "output_type": "stream",
     "name": "stdout",
     "text": [
      "\n",
      "✅ Created sequences for 6,039 users\n",
      "\n",
      "🎯 Example sequence for User 1:\n",
      "  - Number of ratings: 53\n",
      "  - First 5 ratings: [4, 5, 4, 5, 3]\n",
      "  - First 5 movies: ['Girl, Interrupted (1999)', 'Back to the Future (1985)', 'Titanic (1997)', 'Cinderella (1950)', 'Meet Joe Black (1998)']\n"
     ]
    }
   ],
   "source": [
    "def create_user_sequences(ratings_df, movies_df, min_rate_for_data=1):\n",
    "    \"\"\"Create chronological user interaction sequences\"\"\"\n",
    "\n",
    "    # Merge ratings with movie information\n",
    "    merged_df = ratings_df.merge(movies_df, on='MovieID', how='left')\n",
    "    merged_df = merged_df[merged_df.Rating>=min_rate_for_data].reset_index(drop=True)\n",
    "    # Sort by user and timestamp\n",
    "    merged_df = merged_df.sort_values(['UserID', 'Timestamp'])\n",
    "\n",
    "    user_sequences = {}\n",
    "\n",
    "    print(\"Creating user sequences...\")\n",
    "    for user_id, group in tqdm(merged_df.groupby('UserID')):\n",
    "        sequence = {\n",
    "            'user_id': user_id,\n",
    "            'movie_ids': group['MovieID'].tolist(),\n",
    "            'ratings': group['Rating'].tolist(),\n",
    "            'timestamps': group['Timestamp'].tolist(),\n",
    "            'genres_list': group['Genres'].tolist(),\n",
    "            'titles': group['Title'].tolist()\n",
    "        }\n",
    "        user_sequences[user_id] = sequence\n",
    "\n",
    "    return user_sequences\n",
    "\n",
    "# Create user sequences\n",
    "user_sequences = create_user_sequences(ratings_df, movies_df, min_rate_for_data=3)\n",
    "\n",
    "print(f\"\\n✅ Created sequences for {len(user_sequences):,} users\")\n",
    "\n",
    "# Show example sequence\n",
    "example_user = list(user_sequences.keys())[0]\n",
    "example_seq = user_sequences[example_user]\n",
    "print(f\"\\n🎯 Example sequence for User {example_user}:\")\n",
    "print(f\"  - Number of ratings: {len(example_seq['ratings'])}\")\n",
    "print(f\"  - First 5 ratings: {example_seq['ratings'][:5]}\")\n",
    "print(f\"  - First 5 movies: {example_seq['titles'][:5]}\")\n"
   ]
  },
  {
   "cell_type": "markdown",
   "metadata": {
    "id": "IFoRVgO1wF8D"
   },
   "source": [
    "# Step 2: Generate Action Sequences (seq_actions)\n"
   ]
  },
  {
   "cell_type": "code",
   "execution_count": null,
   "metadata": {
    "colab": {
     "base_uri": "https://localhost:8080/"
    },
    "id": "2asG04P6wF8D",
    "outputId": "c9f60310-bd67-4177-f9e1-1bc6035773a9"
   },
   "outputs": [
    {
     "output_type": "stream",
     "name": "stdout",
     "text": [
      "Generating movie ID sequences (TiSASRec style)...\n"
     ]
    },
    {
     "output_type": "stream",
     "name": "stderr",
     "text": [
      "100%|██████████| 6039/6039 [00:00<00:00, 38588.95it/s]"
     ]
    },
    {
     "output_type": "stream",
     "name": "stdout",
     "text": [
      "\n",
      "✅ Generated movie ID sequences\n",
      "📊 Total unique movies: 3628\n",
      "\n",
      "🎯 Example actions for User 1:\n",
      "  - Total actions: 53\n",
      "  - First 10 actions: ['movie_3186', 'movie_1270', 'movie_1721', 'movie_1022', 'movie_2340', 'movie_1836', 'movie_3408', 'movie_2804', 'movie_1207', 'movie_1193']\n"
     ]
    },
    {
     "output_type": "stream",
     "name": "stderr",
     "text": [
      "\n"
     ]
    },
    {
     "output_type": "stream",
     "name": "stdout",
     "text": [
      "\n",
      "📈 Most popular movies:\n",
      "  - movie_2858: 3,211 times\n",
      "  - movie_260: 2,910 times\n",
      "  - movie_1196: 2,885 times\n",
      "  - movie_1210: 2,716 times\n",
      "  - movie_2028: 2,561 times\n",
      "  - movie_589: 2,509 times\n",
      "  - movie_593: 2,498 times\n",
      "  - movie_1198: 2,473 times\n",
      "  - movie_1270: 2,460 times\n",
      "  - movie_2571: 2,434 times\n"
     ]
    }
   ],
   "source": [
    "def generate_action_sequences(user_sequences):\n",
    "    action_sequences = {}\n",
    "    rating_sequences = {}\n",
    "    all_movie_ids = set()\n",
    "\n",
    "    print(\"Generating movie ID sequences (TiSASRec style)...\")\n",
    "    for user_id, seq in tqdm(user_sequences.items()):\n",
    "        # Use movie IDs directly as actions (like original TiSASRec)\n",
    "        movie_ids = seq['movie_ids']\n",
    "        ratings = seq['ratings']\n",
    "\n",
    "        # Convert movie IDs to strings for consistency\n",
    "        actions = [f\"movie_{movie_id}\" for movie_id in movie_ids]\n",
    "        action_sequences[user_id] = actions\n",
    "        rating_sequences[user_id] = ratings\n",
    "        all_movie_ids.update(actions)\n",
    "\n",
    "    print(f\"\\n✅ Generated movie ID sequences\")\n",
    "    print(f\"📊 Total unique movies: {len(all_movie_ids)}\")\n",
    "\n",
    "    return action_sequences, all_movie_ids, rating_sequences\n",
    "\n",
    "# Generate action sequences\n",
    "action_sequences, all_movie_ids, rating_sequences = generate_action_sequences(user_sequences)\n",
    "\n",
    "# Show example action sequence\n",
    "example_actions = action_sequences[example_user]\n",
    "print(f\"\\n🎯 Example actions for User {example_user}:\")\n",
    "print(f\"  - Total actions: {len(example_actions)}\")\n",
    "print(f\"  - First 10 actions: {example_actions[:10]}\")\n",
    "\n",
    "# Show movie statistics\n",
    "movie_counts = Counter()\n",
    "for actions in action_sequences.values():\n",
    "    movie_counts.update(actions)\n",
    "\n",
    "print(f\"\\n📈 Most popular movies:\")\n",
    "for movie, count in movie_counts.most_common(10):\n",
    "    print(f\"  - {movie}: {count:,} times\")\n"
   ]
  },
  {
   "cell_type": "markdown",
   "metadata": {
    "id": "ERoUOHV7wF8D"
   },
   "source": [
    "# Step 3: Calculate Time Intervals (seq_times)\n"
   ]
  },
  {
   "cell_type": "code",
   "execution_count": null,
   "metadata": {
    "colab": {
     "base_uri": "https://localhost:8080/"
    },
    "id": "n0YXpm4ewF8D",
    "outputId": "f075270e-1834-44bc-d914-8869b002d8a7"
   },
   "outputs": [
    {
     "output_type": "stream",
     "name": "stdout",
     "text": [
      "Calculating time intervals...\n"
     ]
    },
    {
     "output_type": "stream",
     "name": "stderr",
     "text": [
      "100%|██████████| 6039/6039 [00:00<00:00, 51123.93it/s]"
     ]
    },
    {
     "output_type": "stream",
     "name": "stdout",
     "text": [
      "\n",
      "🎯 Example time intervals for User 1:\n",
      "  - Total intervals: 53\n",
      "  - First 10 intervals: [0, 0, 0, 0, 0, 0, 0, 0, 0, 0]\n",
      "  - Time span: 6 days\n",
      "\n",
      "📊 Time interval statistics:\n",
      "  - Max time span: 1032 days\n",
      "  - Average interval: 33.7 days\n",
      "  - Median interval: 0.0 days\n"
     ]
    },
    {
     "output_type": "stream",
     "name": "stderr",
     "text": [
      "\n"
     ]
    }
   ],
   "source": [
    "def calculate_time_intervals(user_sequences):\n",
    "    \"\"\"Calculate time intervals from first interaction (TiSASRec compatible)\"\"\"\n",
    "\n",
    "    time_intervals = {}\n",
    "\n",
    "    print(\"Calculating time intervals...\")\n",
    "    for user_id in tqdm(user_sequences.keys()):\n",
    "        seq = user_sequences[user_id]\n",
    "        timestamps = seq['timestamps']\n",
    "        first_timestamp = timestamps[0]  # First interaction\n",
    "\n",
    "        intervals = []\n",
    "        for timestamp in timestamps:\n",
    "            # Calculate days since first interaction\n",
    "            days_since_first = int((timestamp - first_timestamp) / (24 * 3600))\n",
    "            intervals.append(days_since_first)\n",
    "\n",
    "        time_intervals[user_id] = intervals\n",
    "\n",
    "    return time_intervals\n",
    "\n",
    "# Calculate time intervals\n",
    "time_intervals = calculate_time_intervals(user_sequences)\n",
    "\n",
    "# Show example time intervals\n",
    "example_times = time_intervals[example_user]\n",
    "print(f\"\\n🎯 Example time intervals for User {example_user}:\")\n",
    "print(f\"  - Total intervals: {len(example_times)}\")\n",
    "print(f\"  - First 10 intervals: {example_times[:10]}\")\n",
    "print(f\"  - Time span: {max(example_times)} days\")\n",
    "\n",
    "# Time statistics\n",
    "all_intervals = []\n",
    "for intervals in time_intervals.values():\n",
    "    all_intervals.extend(intervals)\n",
    "\n",
    "print(f\"\\n📊 Time interval statistics:\")\n",
    "print(f\"  - Max time span: {max(all_intervals)} days\")\n",
    "print(f\"  - Average interval: {np.mean(all_intervals):.1f} days\")\n",
    "print(f\"  - Median interval: {np.median(all_intervals):.1f} days\")\n"
   ]
  },
  {
   "cell_type": "markdown",
   "metadata": {
    "id": "r6fzi-MtwF8D"
   },
   "source": [
    "# Step 4: Create Targets\n"
   ]
  },
  {
   "cell_type": "code",
   "execution_count": null,
   "metadata": {
    "colab": {
     "base_uri": "https://localhost:8080/"
    },
    "id": "bXvpc1oewF8D",
    "outputId": "7905afed-ad71-4172-d495-40a2908160e4"
   },
   "outputs": [
    {
     "output_type": "stream",
     "name": "stdout",
     "text": [
      "Creating next item prediction targets...\n"
     ]
    },
    {
     "output_type": "stream",
     "name": "stderr",
     "text": [
      "100%|██████████| 6039/6039 [00:00<00:00, 61801.34it/s]\n"
     ]
    },
    {
     "output_type": "stream",
     "name": "stdout",
     "text": [
      "Creating sequence-level targets...\n"
     ]
    },
    {
     "output_type": "stream",
     "name": "stderr",
     "text": [
      "100%|██████████| 6039/6039 [00:00<00:00, 777047.02it/s]"
     ]
    },
    {
     "output_type": "stream",
     "name": "stdout",
     "text": [
      "\n",
      "🎯 Example targets for User 1:\n",
      "  - Next item targets: ['movie_1270', 'movie_1721', 'movie_1022', 'movie_2340', 'movie_1836', 'movie_3408', 'movie_2804', 'movie_1207', 'movie_1193', 'movie_720']\n",
      "  - Sequence-level target: movie_48\n",
      "\n",
      "📊 Target statistics:\n",
      "  - Total next-item predictions: 830,439\n",
      "  - Unique target movies: 3,623\n",
      "  - Users with valid targets: 6,038\n"
     ]
    },
    {
     "output_type": "stream",
     "name": "stderr",
     "text": [
      "\n"
     ]
    },
    {
     "output_type": "stream",
     "name": "stdout",
     "text": [
      "\n",
      "📈 Most common target movies:\n",
      "  - movie_2858: 3,197 times\n",
      "  - movie_260: 2,765 times\n",
      "  - movie_1196: 2,759 times\n",
      "  - movie_1210: 2,509 times\n",
      "  - movie_2028: 2,507 times\n",
      "  - movie_589: 2,490 times\n",
      "  - movie_2571: 2,430 times\n",
      "  - movie_2762: 2,381 times\n",
      "  - movie_608: 2,368 times\n",
      "  - movie_593: 2,345 times\n"
     ]
    }
   ],
   "source": [
    "def create_next_item_targets(user_sequences):\n",
    "    \"\"\"Create next item prediction targets (TiSASRec compatible)\"\"\"\n",
    "\n",
    "    targets = {}\n",
    "\n",
    "    print(\"Creating next item prediction targets...\")\n",
    "    for user_id, seq in tqdm(user_sequences.items()):\n",
    "        movie_ids = seq['movie_ids']\n",
    "        if len(movie_ids) > 1:\n",
    "            # Predict next movie ID (shift by 1)\n",
    "            next_movies = [f\"movie_{movie_id}\" for movie_id in movie_ids[1:]]\n",
    "            targets[user_id] = next_movies\n",
    "        else:\n",
    "            targets[user_id] = []  # Skip users with single interaction\n",
    "\n",
    "    return targets\n",
    "\n",
    "def create_sequence_level_targets(user_sequences):\n",
    "    \"\"\"Create sequence-level targets (last item in sequence)\"\"\"\n",
    "\n",
    "    targets = {}\n",
    "\n",
    "    print(\"Creating sequence-level targets...\")\n",
    "    for user_id, seq in tqdm(user_sequences.items()):\n",
    "        movie_ids = seq['movie_ids']\n",
    "        if len(movie_ids) > 0:\n",
    "            # Use last movie as sequence target\n",
    "            last_movie = f\"movie_{movie_ids[-1]}\"\n",
    "            targets[user_id] = last_movie\n",
    "        else:\n",
    "            targets[user_id] = None\n",
    "\n",
    "    return targets\n",
    "\n",
    "# Create next-item prediction targets (main task)\n",
    "next_item_targets = create_next_item_targets(user_sequences)\n",
    "sequence_level_targets = create_sequence_level_targets(user_sequences)\n",
    "\n",
    "# Show example targets\n",
    "example_next_targets = next_item_targets[example_user]\n",
    "example_seq_target = sequence_level_targets[example_user]\n",
    "\n",
    "print(f\"\\n🎯 Example targets for User {example_user}:\")\n",
    "print(f\"  - Next item targets: {example_next_targets[:10]}\")\n",
    "print(f\"  - Sequence-level target: {example_seq_target}\")\n",
    "\n",
    "# Target statistics\n",
    "all_next_items = []\n",
    "for targets in next_item_targets.values():\n",
    "    all_next_items.extend(targets)\n",
    "\n",
    "print(f\"\\n📊 Target statistics:\")\n",
    "print(f\"  - Total next-item predictions: {len(all_next_items):,}\")\n",
    "print(f\"  - Unique target movies: {len(set(all_next_items)):,}\")\n",
    "print(f\"  - Users with valid targets: {len([t for t in next_item_targets.values() if len(t) > 0]):,}\")\n",
    "\n",
    "# Most common target movies\n",
    "target_counts = Counter(all_next_items)\n",
    "print(f\"\\n📈 Most common target movies:\")\n",
    "for movie, count in target_counts.most_common(10):\n",
    "    print(f\"  - {movie}: {count:,} times\")\n"
   ]
  },
  {
   "cell_type": "markdown",
   "metadata": {
    "id": "PjH1UP9rwF8D"
   },
   "source": [
    "# Step 5: Create Final Dataset\n"
   ]
  },
  {
   "cell_type": "code",
   "execution_count": null,
   "metadata": {
    "colab": {
     "base_uri": "https://localhost:8080/"
    },
    "id": "Ur9YzXibwF8E",
    "outputId": "91b32705-1bd6-47de-9560-e38848805a04"
   },
   "outputs": [
    {
     "output_type": "stream",
     "name": "stdout",
     "text": [
      "Creating final dataset for next-item prediction...\n"
     ]
    },
    {
     "output_type": "stream",
     "name": "stderr",
     "text": [
      "100%|██████████| 6039/6039 [00:00<00:00, 66222.56it/s]"
     ]
    },
    {
     "output_type": "stream",
     "name": "stdout",
     "text": [
      "\n",
      "✅ Created final dataset:\n",
      "  - Total sequences: 6,038\n",
      "  - Average sequence length: 137.5\n",
      "  - Min sequence length: 6\n",
      "  - Max sequence length: 1967\n",
      "\n",
      "🎯 Example final data structure:\n",
      "  - user_id: 1\n",
      "  - seq_actions (first 10): ['movie_3186', 'movie_1270', 'movie_1721', 'movie_1022', 'movie_2340', 'movie_1836', 'movie_3408', 'movie_2804', 'movie_1207', 'movie_1193']\n",
      "  - seq_ratings (first 10): [4, 5, 4, 5, 3, 5, 4, 5, 4, 5]\n",
      "  - seq_times (first 10): [0, 0, 0, 0, 0, 0, 0, 0, 0, 0]\n",
      "  - target (first 10): movie_48\n",
      "  - sequence_length: 52\n"
     ]
    },
    {
     "output_type": "stream",
     "name": "stderr",
     "text": [
      "\n"
     ]
    }
   ],
   "source": [
    "def create_final_dataset(action_sequences, time_intervals, rating_sequences, targets, min_length=3, max_length=int(1e10)):\n",
    "    \"\"\"Create final dataset in MUTTI format (TiSASRec compatible)\"\"\"\n",
    "\n",
    "    final_dataset = []\n",
    "\n",
    "    print(\"Creating final dataset for next-item prediction...\")\n",
    "    for user_id in tqdm(action_sequences.keys()):\n",
    "        seq_actions = action_sequences[user_id]\n",
    "        seq_times = time_intervals[user_id]\n",
    "        seq_ratings = rating_sequences[user_id]\n",
    "        next_targets = targets[user_id]\n",
    "\n",
    "        # Skip users without valid targets\n",
    "        if len(next_targets) == 0:\n",
    "            continue\n",
    "\n",
    "        # For next-item prediction, input sequence is all but last, target is next items\n",
    "        if len(seq_actions) >= min_length and len(seq_actions) <= max_length:\n",
    "            # Ensure sequence lengths match\n",
    "            assert len(seq_actions) == len(seq_times), f\"Length mismatch for user {user_id}\"\n",
    "\n",
    "            assert len(seq_actions) == len(seq_ratings), f\"Length mismatch  with ratings for user {user_id}\"\n",
    "\n",
    "            # Input sequence: all items except last one\n",
    "            input_actions = seq_actions[:-1]\n",
    "            input_times = seq_times[:-1]\n",
    "            input_ratings = seq_ratings[:-1]\n",
    "\n",
    "            # Target: next item (last item in original sequence)\n",
    "            target_item = seq_actions[-1]  # Last item is what we want to predict\n",
    "\n",
    "            final_dataset.append({\n",
    "                'user_id': user_id,\n",
    "                'seq_actions': input_actions,\n",
    "                'seq_times': input_times,\n",
    "                'seq_ratings': input_ratings,\n",
    "                'target': target_item,  # Single target item (not sequence)\n",
    "                'sequence_length': len(input_actions)\n",
    "            })\n",
    "\n",
    "    return final_dataset\n",
    "\n",
    "# Create final dataset using next-item prediction format\n",
    "final_dataset = create_final_dataset(action_sequences, time_intervals, rating_sequences, next_item_targets)\n",
    "\n",
    "print(f\"\\n✅ Created final dataset:\")\n",
    "print(f\"  - Total sequences: {len(final_dataset):,}\")\n",
    "print(f\"  - Average sequence length: {np.mean([d['sequence_length'] for d in final_dataset]):.1f}\")\n",
    "print(f\"  - Min sequence length: {min([d['sequence_length'] for d in final_dataset])}\")\n",
    "print(f\"  - Max sequence length: {max([d['sequence_length'] for d in final_dataset])}\")\n",
    "\n",
    "# Show example final data\n",
    "example_final = final_dataset[0]\n",
    "print(f\"\\n🎯 Example final data structure:\")\n",
    "print(f\"  - user_id: {example_final['user_id']}\")\n",
    "print(f\"  - seq_actions (first 10): {example_final['seq_actions'][:10]}\")\n",
    "print(f\"  - seq_ratings (first 10): {example_final['seq_ratings'][:10]}\")\n",
    "print(f\"  - seq_times (first 10): {example_final['seq_times'][:10]}\")\n",
    "print(f\"  - target (first 10): {example_final['target'][:10]}\")\n",
    "print(f\"  - sequence_length: {example_final['sequence_length']}\")\n"
   ]
  },
  {
   "cell_type": "markdown",
   "metadata": {
    "id": "zCCNDDTAwF8E"
   },
   "source": [
    "# Step 6: Save Processed Data\n"
   ]
  },
  {
   "cell_type": "code",
   "execution_count": null,
   "metadata": {
    "colab": {
     "base_uri": "https://localhost:8080/"
    },
    "id": "vs6li78-wF8E",
    "outputId": "c1921c25-3110-4b67-b6c6-7da6fb3537c5"
   },
   "outputs": [
    {
     "output_type": "stream",
     "name": "stdout",
     "text": [
      "✅ Saved processed data to /content/drive/MyDrive/Colab Notebooks/Thesis coding/public datasets try/movielens/data/processed/\n",
      "📁 Files created:\n",
      "  - movielens_final_dataset.pkl (6,038 sequences)\n",
      "  - movielens_vocab.json (3,632 tokens)\n",
      "  - movielens_metadata.json\n",
      "\n",
      "🎉 MovieLens-1M preprocessing completed!\n",
      "📊 Final dataset summary:\n",
      "  - Format: seq_actions, seq_times, target\n",
      "  - Sequences: 6,038\n",
      "  - Vocabulary size: 3,632\n",
      "  - Average length: 137.5 movies\n",
      "  - Task: Next-item recommendation (TiSASRec compatible)\n",
      "  - Evaluation: Hit Rate (HR), NDCG\n",
      "  - Ready for MUTTI vs TiSASRec comparison! 🚀\n"
     ]
    }
   ],
   "source": [
    "# Save final dataset\n",
    "with open(f\"{output_path}/movielens_final_dataset.pkl\", 'wb') as f:\n",
    "    pickle.dump(final_dataset, f)\n",
    "\n",
    "# Save vocabulary (all unique movie IDs)\n",
    "vocab = {\n",
    "    '[PAD]': 0,\n",
    "    '[UNK]': 1,\n",
    "    '[CLS]': 2,\n",
    "    '[SEP]': 3\n",
    "}\n",
    "\n",
    "for i, movie_id in enumerate(sorted(all_movie_ids)):\n",
    "    vocab[movie_id] = i + 4\n",
    "\n",
    "with open(f\"{output_path}/movielens_vocab.json\", 'w') as f:\n",
    "    json.dump(vocab, f, indent=2)\n",
    "\n",
    "# Save metadata\n",
    "metadata = {\n",
    "    'dataset_name': 'MovieLens-1M',\n",
    "    'task_type': 'next_item_recommendation',\n",
    "    'task_description': 'Sequential recommendation (TiSASRec compatible)',\n",
    "    'num_sequences': len(final_dataset),\n",
    "    'vocab_size': len(vocab),\n",
    "    'avg_sequence_length': float(np.mean([d['sequence_length'] for d in final_dataset])),\n",
    "    'min_sequence_length': min([d['sequence_length'] for d in final_dataset]),\n",
    "    'max_sequence_length': max([d['sequence_length'] for d in final_dataset]),\n",
    "    'num_unique_movies': len(all_movie_ids),\n",
    "    'total_interactions': len(all_next_items),\n",
    "    'evaluation_metrics': ['Hit Rate (HR)', 'NDCG'],\n",
    "    'preprocessing_date': datetime.now().isoformat()\n",
    "}\n",
    "\n",
    "with open(f\"{output_path}/movielens_metadata.json\", 'w') as f:\n",
    "    json.dump(metadata, f, indent=2)\n",
    "\n",
    "print(f\"✅ Saved processed data to {output_path}\")\n",
    "print(f\"📁 Files created:\")\n",
    "print(f\"  - movielens_final_dataset.pkl ({len(final_dataset):,} sequences)\")\n",
    "print(f\"  - movielens_vocab.json ({len(vocab):,} tokens)\")\n",
    "print(f\"  - movielens_metadata.json\")\n",
    "\n",
    "# Display final summary\n",
    "print(f\"\\n🎉 MovieLens-1M preprocessing completed!\")\n",
    "print(f\"📊 Final dataset summary:\")\n",
    "print(f\"  - Format: seq_actions, seq_times, target\")\n",
    "print(f\"  - Sequences: {len(final_dataset):,}\")\n",
    "print(f\"  - Vocabulary size: {len(vocab):,}\")\n",
    "print(f\"  - Average length: {metadata['avg_sequence_length']:.1f} movies\")\n",
    "print(f\"  - Task: Next-item recommendation (TiSASRec compatible)\")\n",
    "print(f\"  - Evaluation: Hit Rate (HR), NDCG\")\n",
    "print(f\"  - Ready for MUTTI vs TiSASRec comparison! 🚀\")\n"
   ]
  },
  {
   "cell_type": "code",
   "source": [
    "d = pd.DataFrame(final_dataset)\n",
    "d.head()"
   ],
   "metadata": {
    "colab": {
     "base_uri": "https://localhost:8080/",
     "height": 206
    },
    "id": "VOSQmfD8YY3Z",
    "outputId": "1b77132d-2ed2-467c-83aa-81b49cee40d8"
   },
   "execution_count": null,
   "outputs": [
    {
     "output_type": "execute_result",
     "data": {
      "text/plain": [
       "   user_id                                        seq_actions  \\\n",
       "0        1  [movie_3186, movie_1270, movie_1721, movie_102...   \n",
       "1        2  [movie_1198, movie_1210, movie_1217, movie_271...   \n",
       "2        3  [movie_593, movie_2858, movie_3534, movie_1968...   \n",
       "3        4  [movie_1210, movie_1097, movie_3468, movie_480...   \n",
       "4        5  [movie_908, movie_919, movie_1250, movie_2858,...   \n",
       "\n",
       "                                           seq_times  \\\n",
       "0  [0, 0, 0, 0, 0, 0, 0, 0, 0, 0, 0, 0, 0, 0, 0, ...   \n",
       "1  [0, 0, 0, 0, 0, 0, 0, 0, 0, 0, 0, 0, 0, 0, 0, ...   \n",
       "2  [0, 0, 0, 0, 0, 0, 0, 0, 0, 0, 0, 0, 0, 0, 0, ...   \n",
       "3  [0, 0, 0, 0, 0, 0, 0, 0, 0, 0, 0, 0, 0, 0, 0, ...   \n",
       "4  [0, 0, 0, 0, 0, 0, 0, 0, 0, 0, 0, 0, 0, 0, 0, ...   \n",
       "\n",
       "                                         seq_ratings      target  \\\n",
       "0  [4, 5, 4, 5, 3, 5, 4, 5, 4, 5, 3, 4, 4, 4, 4, ...    movie_48   \n",
       "1  [4, 4, 3, 3, 5, 4, 5, 5, 5, 4, 4, 5, 4, 5, 4, ...  movie_1917   \n",
       "2  [3, 4, 3, 4, 3, 4, 5, 5, 4, 5, 4, 5, 4, 4, 5, ...  movie_2081   \n",
       "3  [3, 4, 5, 4, 5, 5, 5, 5, 4, 5, 5, 5, 4, 4, 4, ...  movie_1954   \n",
       "4  [4, 4, 5, 4, 3, 5, 4, 5, 4, 3, 4, 3, 5, 3, 3, ...  movie_1884   \n",
       "\n",
       "   sequence_length  \n",
       "0               52  \n",
       "1              115  \n",
       "2               45  \n",
       "3               18  \n",
       "4              142  "
      ],
      "text/html": [
       "\n",
       "  <div id=\"df-a7107043-4f47-45ae-8773-905df607a60b\" class=\"colab-df-container\">\n",
       "    <div>\n",
       "<style scoped>\n",
       "    .dataframe tbody tr th:only-of-type {\n",
       "        vertical-align: middle;\n",
       "    }\n",
       "\n",
       "    .dataframe tbody tr th {\n",
       "        vertical-align: top;\n",
       "    }\n",
       "\n",
       "    .dataframe thead th {\n",
       "        text-align: right;\n",
       "    }\n",
       "</style>\n",
       "<table border=\"1\" class=\"dataframe\">\n",
       "  <thead>\n",
       "    <tr style=\"text-align: right;\">\n",
       "      <th></th>\n",
       "      <th>user_id</th>\n",
       "      <th>seq_actions</th>\n",
       "      <th>seq_times</th>\n",
       "      <th>seq_ratings</th>\n",
       "      <th>target</th>\n",
       "      <th>sequence_length</th>\n",
       "    </tr>\n",
       "  </thead>\n",
       "  <tbody>\n",
       "    <tr>\n",
       "      <th>0</th>\n",
       "      <td>1</td>\n",
       "      <td>[movie_3186, movie_1270, movie_1721, movie_102...</td>\n",
       "      <td>[0, 0, 0, 0, 0, 0, 0, 0, 0, 0, 0, 0, 0, 0, 0, ...</td>\n",
       "      <td>[4, 5, 4, 5, 3, 5, 4, 5, 4, 5, 3, 4, 4, 4, 4, ...</td>\n",
       "      <td>movie_48</td>\n",
       "      <td>52</td>\n",
       "    </tr>\n",
       "    <tr>\n",
       "      <th>1</th>\n",
       "      <td>2</td>\n",
       "      <td>[movie_1198, movie_1210, movie_1217, movie_271...</td>\n",
       "      <td>[0, 0, 0, 0, 0, 0, 0, 0, 0, 0, 0, 0, 0, 0, 0, ...</td>\n",
       "      <td>[4, 4, 3, 3, 5, 4, 5, 5, 5, 4, 4, 5, 4, 5, 4, ...</td>\n",
       "      <td>movie_1917</td>\n",
       "      <td>115</td>\n",
       "    </tr>\n",
       "    <tr>\n",
       "      <th>2</th>\n",
       "      <td>3</td>\n",
       "      <td>[movie_593, movie_2858, movie_3534, movie_1968...</td>\n",
       "      <td>[0, 0, 0, 0, 0, 0, 0, 0, 0, 0, 0, 0, 0, 0, 0, ...</td>\n",
       "      <td>[3, 4, 3, 4, 3, 4, 5, 5, 4, 5, 4, 5, 4, 4, 5, ...</td>\n",
       "      <td>movie_2081</td>\n",
       "      <td>45</td>\n",
       "    </tr>\n",
       "    <tr>\n",
       "      <th>3</th>\n",
       "      <td>4</td>\n",
       "      <td>[movie_1210, movie_1097, movie_3468, movie_480...</td>\n",
       "      <td>[0, 0, 0, 0, 0, 0, 0, 0, 0, 0, 0, 0, 0, 0, 0, ...</td>\n",
       "      <td>[3, 4, 5, 4, 5, 5, 5, 5, 4, 5, 5, 5, 4, 4, 4, ...</td>\n",
       "      <td>movie_1954</td>\n",
       "      <td>18</td>\n",
       "    </tr>\n",
       "    <tr>\n",
       "      <th>4</th>\n",
       "      <td>5</td>\n",
       "      <td>[movie_908, movie_919, movie_1250, movie_2858,...</td>\n",
       "      <td>[0, 0, 0, 0, 0, 0, 0, 0, 0, 0, 0, 0, 0, 0, 0, ...</td>\n",
       "      <td>[4, 4, 5, 4, 3, 5, 4, 5, 4, 3, 4, 3, 5, 3, 3, ...</td>\n",
       "      <td>movie_1884</td>\n",
       "      <td>142</td>\n",
       "    </tr>\n",
       "  </tbody>\n",
       "</table>\n",
       "</div>\n",
       "    <div class=\"colab-df-buttons\">\n",
       "\n",
       "  <div class=\"colab-df-container\">\n",
       "    <button class=\"colab-df-convert\" onclick=\"convertToInteractive('df-a7107043-4f47-45ae-8773-905df607a60b')\"\n",
       "            title=\"Convert this dataframe to an interactive table.\"\n",
       "            style=\"display:none;\">\n",
       "\n",
       "  <svg xmlns=\"http://www.w3.org/2000/svg\" height=\"24px\" viewBox=\"0 -960 960 960\">\n",
       "    <path d=\"M120-120v-720h720v720H120Zm60-500h600v-160H180v160Zm220 220h160v-160H400v160Zm0 220h160v-160H400v160ZM180-400h160v-160H180v160Zm440 0h160v-160H620v160ZM180-180h160v-160H180v160Zm440 0h160v-160H620v160Z\"/>\n",
       "  </svg>\n",
       "    </button>\n",
       "\n",
       "  <style>\n",
       "    .colab-df-container {\n",
       "      display:flex;\n",
       "      gap: 12px;\n",
       "    }\n",
       "\n",
       "    .colab-df-convert {\n",
       "      background-color: #E8F0FE;\n",
       "      border: none;\n",
       "      border-radius: 50%;\n",
       "      cursor: pointer;\n",
       "      display: none;\n",
       "      fill: #1967D2;\n",
       "      height: 32px;\n",
       "      padding: 0 0 0 0;\n",
       "      width: 32px;\n",
       "    }\n",
       "\n",
       "    .colab-df-convert:hover {\n",
       "      background-color: #E2EBFA;\n",
       "      box-shadow: 0px 1px 2px rgba(60, 64, 67, 0.3), 0px 1px 3px 1px rgba(60, 64, 67, 0.15);\n",
       "      fill: #174EA6;\n",
       "    }\n",
       "\n",
       "    .colab-df-buttons div {\n",
       "      margin-bottom: 4px;\n",
       "    }\n",
       "\n",
       "    [theme=dark] .colab-df-convert {\n",
       "      background-color: #3B4455;\n",
       "      fill: #D2E3FC;\n",
       "    }\n",
       "\n",
       "    [theme=dark] .colab-df-convert:hover {\n",
       "      background-color: #434B5C;\n",
       "      box-shadow: 0px 1px 3px 1px rgba(0, 0, 0, 0.15);\n",
       "      filter: drop-shadow(0px 1px 2px rgba(0, 0, 0, 0.3));\n",
       "      fill: #FFFFFF;\n",
       "    }\n",
       "  </style>\n",
       "\n",
       "    <script>\n",
       "      const buttonEl =\n",
       "        document.querySelector('#df-a7107043-4f47-45ae-8773-905df607a60b button.colab-df-convert');\n",
       "      buttonEl.style.display =\n",
       "        google.colab.kernel.accessAllowed ? 'block' : 'none';\n",
       "\n",
       "      async function convertToInteractive(key) {\n",
       "        const element = document.querySelector('#df-a7107043-4f47-45ae-8773-905df607a60b');\n",
       "        const dataTable =\n",
       "          await google.colab.kernel.invokeFunction('convertToInteractive',\n",
       "                                                    [key], {});\n",
       "        if (!dataTable) return;\n",
       "\n",
       "        const docLinkHtml = 'Like what you see? Visit the ' +\n",
       "          '<a target=\"_blank\" href=https://colab.research.google.com/notebooks/data_table.ipynb>data table notebook</a>'\n",
       "          + ' to learn more about interactive tables.';\n",
       "        element.innerHTML = '';\n",
       "        dataTable['output_type'] = 'display_data';\n",
       "        await google.colab.output.renderOutput(dataTable, element);\n",
       "        const docLink = document.createElement('div');\n",
       "        docLink.innerHTML = docLinkHtml;\n",
       "        element.appendChild(docLink);\n",
       "      }\n",
       "    </script>\n",
       "  </div>\n",
       "\n",
       "\n",
       "    <div id=\"df-c8c0bd94-9855-4e66-97ed-16fe0ae9ff83\">\n",
       "      <button class=\"colab-df-quickchart\" onclick=\"quickchart('df-c8c0bd94-9855-4e66-97ed-16fe0ae9ff83')\"\n",
       "                title=\"Suggest charts\"\n",
       "                style=\"display:none;\">\n",
       "\n",
       "<svg xmlns=\"http://www.w3.org/2000/svg\" height=\"24px\"viewBox=\"0 0 24 24\"\n",
       "     width=\"24px\">\n",
       "    <g>\n",
       "        <path d=\"M19 3H5c-1.1 0-2 .9-2 2v14c0 1.1.9 2 2 2h14c1.1 0 2-.9 2-2V5c0-1.1-.9-2-2-2zM9 17H7v-7h2v7zm4 0h-2V7h2v10zm4 0h-2v-4h2v4z\"/>\n",
       "    </g>\n",
       "</svg>\n",
       "      </button>\n",
       "\n",
       "<style>\n",
       "  .colab-df-quickchart {\n",
       "      --bg-color: #E8F0FE;\n",
       "      --fill-color: #1967D2;\n",
       "      --hover-bg-color: #E2EBFA;\n",
       "      --hover-fill-color: #174EA6;\n",
       "      --disabled-fill-color: #AAA;\n",
       "      --disabled-bg-color: #DDD;\n",
       "  }\n",
       "\n",
       "  [theme=dark] .colab-df-quickchart {\n",
       "      --bg-color: #3B4455;\n",
       "      --fill-color: #D2E3FC;\n",
       "      --hover-bg-color: #434B5C;\n",
       "      --hover-fill-color: #FFFFFF;\n",
       "      --disabled-bg-color: #3B4455;\n",
       "      --disabled-fill-color: #666;\n",
       "  }\n",
       "\n",
       "  .colab-df-quickchart {\n",
       "    background-color: var(--bg-color);\n",
       "    border: none;\n",
       "    border-radius: 50%;\n",
       "    cursor: pointer;\n",
       "    display: none;\n",
       "    fill: var(--fill-color);\n",
       "    height: 32px;\n",
       "    padding: 0;\n",
       "    width: 32px;\n",
       "  }\n",
       "\n",
       "  .colab-df-quickchart:hover {\n",
       "    background-color: var(--hover-bg-color);\n",
       "    box-shadow: 0 1px 2px rgba(60, 64, 67, 0.3), 0 1px 3px 1px rgba(60, 64, 67, 0.15);\n",
       "    fill: var(--button-hover-fill-color);\n",
       "  }\n",
       "\n",
       "  .colab-df-quickchart-complete:disabled,\n",
       "  .colab-df-quickchart-complete:disabled:hover {\n",
       "    background-color: var(--disabled-bg-color);\n",
       "    fill: var(--disabled-fill-color);\n",
       "    box-shadow: none;\n",
       "  }\n",
       "\n",
       "  .colab-df-spinner {\n",
       "    border: 2px solid var(--fill-color);\n",
       "    border-color: transparent;\n",
       "    border-bottom-color: var(--fill-color);\n",
       "    animation:\n",
       "      spin 1s steps(1) infinite;\n",
       "  }\n",
       "\n",
       "  @keyframes spin {\n",
       "    0% {\n",
       "      border-color: transparent;\n",
       "      border-bottom-color: var(--fill-color);\n",
       "      border-left-color: var(--fill-color);\n",
       "    }\n",
       "    20% {\n",
       "      border-color: transparent;\n",
       "      border-left-color: var(--fill-color);\n",
       "      border-top-color: var(--fill-color);\n",
       "    }\n",
       "    30% {\n",
       "      border-color: transparent;\n",
       "      border-left-color: var(--fill-color);\n",
       "      border-top-color: var(--fill-color);\n",
       "      border-right-color: var(--fill-color);\n",
       "    }\n",
       "    40% {\n",
       "      border-color: transparent;\n",
       "      border-right-color: var(--fill-color);\n",
       "      border-top-color: var(--fill-color);\n",
       "    }\n",
       "    60% {\n",
       "      border-color: transparent;\n",
       "      border-right-color: var(--fill-color);\n",
       "    }\n",
       "    80% {\n",
       "      border-color: transparent;\n",
       "      border-right-color: var(--fill-color);\n",
       "      border-bottom-color: var(--fill-color);\n",
       "    }\n",
       "    90% {\n",
       "      border-color: transparent;\n",
       "      border-bottom-color: var(--fill-color);\n",
       "    }\n",
       "  }\n",
       "</style>\n",
       "\n",
       "      <script>\n",
       "        async function quickchart(key) {\n",
       "          const quickchartButtonEl =\n",
       "            document.querySelector('#' + key + ' button');\n",
       "          quickchartButtonEl.disabled = true;  // To prevent multiple clicks.\n",
       "          quickchartButtonEl.classList.add('colab-df-spinner');\n",
       "          try {\n",
       "            const charts = await google.colab.kernel.invokeFunction(\n",
       "                'suggestCharts', [key], {});\n",
       "          } catch (error) {\n",
       "            console.error('Error during call to suggestCharts:', error);\n",
       "          }\n",
       "          quickchartButtonEl.classList.remove('colab-df-spinner');\n",
       "          quickchartButtonEl.classList.add('colab-df-quickchart-complete');\n",
       "        }\n",
       "        (() => {\n",
       "          let quickchartButtonEl =\n",
       "            document.querySelector('#df-c8c0bd94-9855-4e66-97ed-16fe0ae9ff83 button');\n",
       "          quickchartButtonEl.style.display =\n",
       "            google.colab.kernel.accessAllowed ? 'block' : 'none';\n",
       "        })();\n",
       "      </script>\n",
       "    </div>\n",
       "\n",
       "    </div>\n",
       "  </div>\n"
      ],
      "application/vnd.google.colaboratory.intrinsic+json": {
       "type": "dataframe",
       "variable_name": "d",
       "summary": "{\n  \"name\": \"d\",\n  \"rows\": 6038,\n  \"fields\": [\n    {\n      \"column\": \"user_id\",\n      \"properties\": {\n        \"dtype\": \"number\",\n        \"std\": 1743,\n        \"min\": 1,\n        \"max\": 6040,\n        \"num_unique_values\": 6038,\n        \"samples\": [\n          5531,\n          711,\n          4925\n        ],\n        \"semantic_type\": \"\",\n        \"description\": \"\"\n      }\n    },\n    {\n      \"column\": \"seq_actions\",\n      \"properties\": {\n        \"dtype\": \"object\",\n        \"semantic_type\": \"\",\n        \"description\": \"\"\n      }\n    },\n    {\n      \"column\": \"seq_times\",\n      \"properties\": {\n        \"dtype\": \"object\",\n        \"semantic_type\": \"\",\n        \"description\": \"\"\n      }\n    },\n    {\n      \"column\": \"seq_ratings\",\n      \"properties\": {\n        \"dtype\": \"object\",\n        \"semantic_type\": \"\",\n        \"description\": \"\"\n      }\n    },\n    {\n      \"column\": \"target\",\n      \"properties\": {\n        \"dtype\": \"category\",\n        \"num_unique_values\": 1873,\n        \"samples\": [\n          \"movie_3464\",\n          \"movie_1598\",\n          \"movie_1460\"\n        ],\n        \"semantic_type\": \"\",\n        \"description\": \"\"\n      }\n    },\n    {\n      \"column\": \"sequence_length\",\n      \"properties\": {\n        \"dtype\": \"number\",\n        \"std\": 156,\n        \"min\": 6,\n        \"max\": 1967,\n        \"num_unique_values\": 642,\n        \"samples\": [\n          55,\n          127,\n          288\n        ],\n        \"semantic_type\": \"\",\n        \"description\": \"\"\n      }\n    }\n  ]\n}"
      }
     },
     "metadata": {},
     "execution_count": 66
    }
   ]
  },
  {
   "cell_type": "code",
   "source": [
    "d.to_parquet(seq_data_file_path_parquet, index=False)"
   ],
   "metadata": {
    "id": "fb4rRAJqYvOT"
   },
   "execution_count": null,
   "outputs": []
  }
 ],
 "metadata": {
  "colab": {
   "provenance": [],
   "toc_visible": true
  },
  "kernelspec": {
   "display_name": "Python 3",
   "name": "python3"
  },
  "language_info": {
   "name": "python"
  }
 },
 "nbformat": 4,
 "nbformat_minor": 0
}
