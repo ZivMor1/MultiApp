{
 "cells": [
  {
   "metadata": {},
   "cell_type": "markdown",
   "source": "# Packs ",
   "id": "189499837a14c3cd"
  },
  {
   "metadata": {
    "ExecuteTime": {
     "end_time": "2025-09-30T14:28:00.758335Z",
     "start_time": "2025-09-30T14:28:00.204994Z"
    }
   },
   "cell_type": "code",
   "source": [
    "import pandas as pd\n",
    "import torch"
   ],
   "id": "4b62998793bc000b",
   "outputs": [],
   "execution_count": 1
  },
  {
   "metadata": {
    "ExecuteTime": {
     "end_time": "2025-09-30T14:28:00.776338Z",
     "start_time": "2025-09-30T14:28:00.759437Z"
    }
   },
   "cell_type": "code",
   "source": [
    "print(\"MPS built:\", torch.backends.mps.is_built())\n",
    "print(\"MPS available:\", torch.backends.mps.is_available())"
   ],
   "id": "e9ae41cc91b3eb7a",
   "outputs": [
    {
     "name": "stdout",
     "output_type": "stream",
     "text": [
      "MPS built: True\n",
      "MPS available: True\n"
     ]
    }
   ],
   "execution_count": 2
  },
  {
   "metadata": {},
   "cell_type": "markdown",
   "source": "# Read Data",
   "id": "85131864498d9721"
  },
  {
   "metadata": {
    "ExecuteTime": {
     "end_time": "2025-09-30T14:28:04.081750Z",
     "start_time": "2025-09-30T14:28:00.776925Z"
    }
   },
   "cell_type": "code",
   "source": [
    "train_df = pd.read_parquet('../artifacts/movielens_splits/df_train.parquet') \n",
    "val_df = pd.read_parquet('../artifacts/movielens_splits/df_val.parquet')\n",
    "test_df = pd.read_parquet('../artifacts/movielens_splits/df_test.parquet')"
   ],
   "id": "13ca3a46414ce73e",
   "outputs": [],
   "execution_count": 3
  },
  {
   "metadata": {
    "ExecuteTime": {
     "end_time": "2025-09-30T14:28:04.090884Z",
     "start_time": "2025-09-30T14:28:04.082367Z"
    }
   },
   "cell_type": "code",
   "source": "train_df.head()",
   "id": "f10bd68874dd555c",
   "outputs": [
    {
     "data": {
      "text/plain": [
       "   user_id                                        seq_actions  \\\n",
       "0     4671  [movie_2634, movie_110, movie_3702, movie_1961...   \n",
       "1       53  [movie_902, movie_694, movie_1961, movie_1193,...   \n",
       "2     5377  [movie_3480, movie_1198, movie_1097, movie_140...   \n",
       "3     2565  [movie_587, movie_2072, movie_2085, movie_19, ...   \n",
       "4      123  [movie_2762, movie_356, movie_1320, movie_1268...   \n",
       "\n",
       "                                           seq_times      target  hist_len  \n",
       "0  [0, 0, 0, 0, 0, 0, 0, 0, 0, 0, 0, 0, 0, 0, 0, ...   movie_165       144  \n",
       "1  [0, 0, 0, 0, 0, 0, 0, 0, 0, 0, 0, 0, 0, 0, 0, ...  movie_2148       400  \n",
       "2  [0, 0, 0, 0, 0, 0, 0, 0, 0, 0, 0, 0, 0, 0, 0, ...  movie_1036        25  \n",
       "3  [0, 0, 0, 0, 0, 0, 0, 0, 0, 0, 0, 0, 0, 0, 0, ...   movie_542       180  \n",
       "4  [0, 0, 0, 0, 0, 0, 0, 0, 0, 0, 0, 0, 0, 0, 0, ...  movie_1304        65  "
      ],
      "text/html": [
       "<div>\n",
       "<style scoped>\n",
       "    .dataframe tbody tr th:only-of-type {\n",
       "        vertical-align: middle;\n",
       "    }\n",
       "\n",
       "    .dataframe tbody tr th {\n",
       "        vertical-align: top;\n",
       "    }\n",
       "\n",
       "    .dataframe thead th {\n",
       "        text-align: right;\n",
       "    }\n",
       "</style>\n",
       "<table border=\"1\" class=\"dataframe\">\n",
       "  <thead>\n",
       "    <tr style=\"text-align: right;\">\n",
       "      <th></th>\n",
       "      <th>user_id</th>\n",
       "      <th>seq_actions</th>\n",
       "      <th>seq_times</th>\n",
       "      <th>target</th>\n",
       "      <th>hist_len</th>\n",
       "    </tr>\n",
       "  </thead>\n",
       "  <tbody>\n",
       "    <tr>\n",
       "      <th>0</th>\n",
       "      <td>4671</td>\n",
       "      <td>[movie_2634, movie_110, movie_3702, movie_1961...</td>\n",
       "      <td>[0, 0, 0, 0, 0, 0, 0, 0, 0, 0, 0, 0, 0, 0, 0, ...</td>\n",
       "      <td>movie_165</td>\n",
       "      <td>144</td>\n",
       "    </tr>\n",
       "    <tr>\n",
       "      <th>1</th>\n",
       "      <td>53</td>\n",
       "      <td>[movie_902, movie_694, movie_1961, movie_1193,...</td>\n",
       "      <td>[0, 0, 0, 0, 0, 0, 0, 0, 0, 0, 0, 0, 0, 0, 0, ...</td>\n",
       "      <td>movie_2148</td>\n",
       "      <td>400</td>\n",
       "    </tr>\n",
       "    <tr>\n",
       "      <th>2</th>\n",
       "      <td>5377</td>\n",
       "      <td>[movie_3480, movie_1198, movie_1097, movie_140...</td>\n",
       "      <td>[0, 0, 0, 0, 0, 0, 0, 0, 0, 0, 0, 0, 0, 0, 0, ...</td>\n",
       "      <td>movie_1036</td>\n",
       "      <td>25</td>\n",
       "    </tr>\n",
       "    <tr>\n",
       "      <th>3</th>\n",
       "      <td>2565</td>\n",
       "      <td>[movie_587, movie_2072, movie_2085, movie_19, ...</td>\n",
       "      <td>[0, 0, 0, 0, 0, 0, 0, 0, 0, 0, 0, 0, 0, 0, 0, ...</td>\n",
       "      <td>movie_542</td>\n",
       "      <td>180</td>\n",
       "    </tr>\n",
       "    <tr>\n",
       "      <th>4</th>\n",
       "      <td>123</td>\n",
       "      <td>[movie_2762, movie_356, movie_1320, movie_1268...</td>\n",
       "      <td>[0, 0, 0, 0, 0, 0, 0, 0, 0, 0, 0, 0, 0, 0, 0, ...</td>\n",
       "      <td>movie_1304</td>\n",
       "      <td>65</td>\n",
       "    </tr>\n",
       "  </tbody>\n",
       "</table>\n",
       "</div>"
      ]
     },
     "execution_count": 4,
     "metadata": {},
     "output_type": "execute_result"
    }
   ],
   "execution_count": 4
  },
  {
   "metadata": {
    "ExecuteTime": {
     "end_time": "2025-09-30T14:28:12.697836Z",
     "start_time": "2025-09-30T14:28:04.092214Z"
    }
   },
   "cell_type": "code",
   "source": [
    "from src.utils.general import flatten_list_of_lists\n",
    "\n",
    "train_flows_list = [list(flow) for flow in train_df.seq_actions.tolist()]\n",
    "train_times_flows_list = [list(times_flow) for times_flow in train_df.seq_times.tolist()]\n",
    "distinct_new_tokens_list = list(set(flatten_list_of_lists(train_flows_list)))\n",
    "len(train_flows_list), len(distinct_new_tokens_list)"
   ],
   "id": "1e83bc5d48db0411",
   "outputs": [
    {
     "data": {
      "text/plain": [
       "(695951, 3599)"
      ]
     },
     "execution_count": 5,
     "metadata": {},
     "output_type": "execute_result"
    }
   ],
   "execution_count": 5
  },
  {
   "metadata": {
    "ExecuteTime": {
     "end_time": "2025-09-30T14:28:12.700756Z",
     "start_time": "2025-09-30T14:28:12.698486Z"
    }
   },
   "cell_type": "code",
   "source": [
    "movies_vocab = {}\n",
    "for i,m in enumerate(distinct_new_tokens_list):\n",
    "  movies_vocab[m]=i\n",
    "\n",
    "len(movies_vocab)"
   ],
   "id": "36a8939d8fa8236f",
   "outputs": [
    {
     "data": {
      "text/plain": [
       "3599"
      ]
     },
     "execution_count": 6,
     "metadata": {},
     "output_type": "execute_result"
    }
   ],
   "execution_count": 6
  },
  {
   "metadata": {
    "ExecuteTime": {
     "end_time": "2025-09-30T14:28:12.835367Z",
     "start_time": "2025-09-30T14:28:12.701275Z"
    }
   },
   "cell_type": "code",
   "source": [
    "from src.utils.tokenizer import MultiAppBehaviorTokenizer\n",
    "\n",
    "tokenizer = MultiAppBehaviorTokenizer(vocab=movies_vocab)"
   ],
   "id": "672ec54f378954e4",
   "outputs": [],
   "execution_count": 7
  },
  {
   "metadata": {
    "ExecuteTime": {
     "end_time": "2025-09-30T14:28:32.791282Z",
     "start_time": "2025-09-30T14:28:12.835867Z"
    }
   },
   "cell_type": "code",
   "source": [
    "train_seq_embeddings_path = '../artifacts/movielens_embeddings/x_train_embeddings.pt' \n",
    "val_seq_embeddings_path = '../artifacts/movielens_embeddings/x_val_embeddings.pt'\n",
    "test_seq_embeddings_path = '../artifacts/movielens_embeddings/x_test_embeddings.pt'\n",
    "\n",
    "x_train = torch.tensor(torch.load(train_seq_embeddings_path), dtype=torch.float32)\n",
    "x_val = torch.tensor(torch.load(val_seq_embeddings_path), dtype=torch.float32)\n",
    "x_test = torch.tensor(torch.load(test_seq_embeddings_path), dtype=torch.float32)"
   ],
   "id": "7630241371dda756",
   "outputs": [],
   "execution_count": 8
  },
  {
   "metadata": {
    "ExecuteTime": {
     "end_time": "2025-09-30T14:28:32.797757Z",
     "start_time": "2025-09-30T14:28:32.792313Z"
    }
   },
   "cell_type": "code",
   "source": [
    "y_train_path = '../artifacts/movielens_embeddings/y_train.pt'\n",
    "y_val_path = '../artifacts/movielens_embeddings/y_val.pt'\n",
    "y_test_path = '../artifacts/movielens_embeddings/y_test.pt'\n",
    "\n",
    "y_train = torch.load(y_train_path)\n",
    "y_val = torch.load(y_val_path)\n",
    "y_test = torch.load(y_test_path)"
   ],
   "id": "6dbaa893ab9e0163",
   "outputs": [],
   "execution_count": 9
  },
  {
   "metadata": {
    "ExecuteTime": {
     "end_time": "2025-09-30T14:28:32.801281Z",
     "start_time": "2025-09-30T14:28:32.798325Z"
    }
   },
   "cell_type": "code",
   "source": "y_test[:10]",
   "id": "1a9dd77b41dfe109",
   "outputs": [
    {
     "data": {
      "text/plain": [
       "tensor([1358, 1181, 2883, 1574, 2222,   58, 2591, 2141, 1086,  407])"
      ]
     },
     "execution_count": 10,
     "metadata": {},
     "output_type": "execute_result"
    }
   ],
   "execution_count": 10
  },
  {
   "metadata": {
    "ExecuteTime": {
     "end_time": "2025-09-30T14:28:32.803917Z",
     "start_time": "2025-09-30T14:28:32.801877Z"
    }
   },
   "cell_type": "code",
   "source": "x_train.shape, x_val.shape, x_test.shape, y_train.shape, y_val.shape, y_test.shape",
   "id": "1c46cf6e13d695ec",
   "outputs": [
    {
     "data": {
      "text/plain": [
       "(torch.Size([695951, 512]),\n",
       " torch.Size([301, 512]),\n",
       " torch.Size([603, 512]),\n",
       " torch.Size([695951]),\n",
       " torch.Size([301]),\n",
       " torch.Size([603]))"
      ]
     },
     "execution_count": 11,
     "metadata": {},
     "output_type": "execute_result"
    }
   ],
   "execution_count": 11
  },
  {
   "metadata": {},
   "cell_type": "markdown",
   "source": "# Create loaders",
   "id": "82d4c6aac997f16d"
  },
  {
   "metadata": {
    "ExecuteTime": {
     "end_time": "2025-09-30T14:28:32.805719Z",
     "start_time": "2025-09-30T14:28:32.804506Z"
    }
   },
   "cell_type": "code",
   "source": [
    "train_batch_size = 256\n",
    "val_batch_size = 128"
   ],
   "id": "e087e47797509194",
   "outputs": [],
   "execution_count": 12
  },
  {
   "metadata": {
    "ExecuteTime": {
     "end_time": "2025-09-30T14:28:32.808699Z",
     "start_time": "2025-09-30T14:28:32.806347Z"
    }
   },
   "cell_type": "code",
   "source": [
    "from torch.utils.data import DataLoader, TensorDataset\n",
    "\n",
    "g = torch.Generator().manual_seed(42)\n",
    "\n",
    "train_dataset = TensorDataset(x_train, y_train)\n",
    "train_loader = DataLoader(train_dataset, batch_size=train_batch_size, shuffle=False, generator=g)\n",
    "\n",
    "val_dataset = TensorDataset(x_val, y_val)\n",
    "val_loader = DataLoader(val_dataset, batch_size=val_batch_size, shuffle=False)\n",
    "\n",
    "test_dataset = TensorDataset(x_test, y_test)\n",
    "test_loader = DataLoader(test_dataset, batch_size=val_batch_size, shuffle=False, generator=g)\n"
   ],
   "id": "4bede926d263a7a2",
   "outputs": [],
   "execution_count": 13
  },
  {
   "metadata": {
    "ExecuteTime": {
     "end_time": "2025-09-30T14:28:32.816905Z",
     "start_time": "2025-09-30T14:28:32.810697Z"
    }
   },
   "cell_type": "code",
   "source": [
    "from src.models.mlp_architecture import MLPNextItemPrediction\n",
    "from src.utils.general import count_model_parameters, set_seed\n",
    "\n",
    "set_seed(42)\n",
    "rec_model = MLPNextItemPrediction(recs_size=len(movies_vocab)+1)\n",
    "count_model_parameters(rec_model)"
   ],
   "id": "380a676c70327d56",
   "outputs": [
    {
     "name": "stdout",
     "output_type": "stream",
     "text": [
      "\n",
      "    Total model parameters: 456655\n",
      "    Total trainable parameters: 456655\n",
      "    Total non-trainable parameters: 0\n",
      "    \n"
     ]
    },
    {
     "data": {
      "text/plain": [
       "(456655, 456655, 0)"
      ]
     },
     "execution_count": 14,
     "metadata": {},
     "output_type": "execute_result"
    }
   ],
   "execution_count": 14
  },
  {
   "metadata": {},
   "cell_type": "markdown",
   "source": "# Train",
   "id": "2cee298f3464ed50"
  },
  {
   "metadata": {
    "ExecuteTime": {
     "end_time": "2025-09-30T14:41:24.951962Z",
     "start_time": "2025-09-30T14:28:32.817458Z"
    }
   },
   "cell_type": "code",
   "source": [
    "from src.utils.training_functions import train_model\n",
    "\n",
    "learning_rate = 3e-4\n",
    "batch_size = 256\n",
    "# epochs = 60\n",
    "epochs = 30\n",
    "set_seed(42)\n",
    "rec_model = MLPNextItemPrediction(recs_size=len(movies_vocab)+1)\n",
    "best_val = train_model(model=rec_model,\n",
    "                       train_loader=train_loader,\n",
    "                       val_loader=val_loader,\n",
    "                       learning_rate=learning_rate,\n",
    "                       epochs=epochs, checkpoints_dir_path='/content', \n",
    "                       save_checkpoints=False, apply_scheduler=True)"
   ],
   "id": "fbbe08d057f12f1c",
   "outputs": [
    {
     "name": "stdout",
     "output_type": "stream",
     "text": [
      "\n",
      "\n",
      "**Epoch #0\n"
     ]
    },
    {
     "data": {
      "text/plain": [
       "  0%|          | 0/2719 [00:00<?, ?it/s]"
      ],
      "application/vnd.jupyter.widget-view+json": {
       "version_major": 2,
       "version_minor": 0,
       "model_id": "e70adf621c264c2f969c9fe90609d07f"
      }
     },
     "metadata": {},
     "output_type": "display_data"
    },
    {
     "name": "stdout",
     "output_type": "stream",
     "text": [
      "finished_train_step, checking loss on train\n",
      "lr now → 0.000300\n",
      "checking loss on validation\n",
      "Train Epoch 1/30 Stats:'\n",
      "        *Train Loss: 3.6043, Train Top10Hit: 0.5273, Val NDCG@10:0.2899;'\n",
      "        *Val Loss: 3.8400,     Val Top10Hit: 0.4286,     Val NDCG@10:0.2314;'\n",
      "        \n",
      "\n",
      "\n",
      "**Epoch #1\n"
     ]
    },
    {
     "data": {
      "text/plain": [
       "  0%|          | 0/2719 [00:00<?, ?it/s]"
      ],
      "application/vnd.jupyter.widget-view+json": {
       "version_major": 2,
       "version_minor": 0,
       "model_id": "fa06be24c8fc411589a56582bc8d97fd"
      }
     },
     "metadata": {},
     "output_type": "display_data"
    },
    {
     "name": "stdout",
     "output_type": "stream",
     "text": [
      "finished_train_step, checking loss on train\n",
      "lr now → 0.000299\n",
      "checking loss on validation\n",
      "Train Epoch 2/30 Stats:'\n",
      "        *Train Loss: 3.4346, Train Top10Hit: 0.5717, Val NDCG@10:0.3245;'\n",
      "        *Val Loss: 3.6834,     Val Top10Hit: 0.4983,     Val NDCG@10:0.2769;'\n",
      "        \n",
      "\n",
      "\n",
      "**Epoch #2\n"
     ]
    },
    {
     "data": {
      "text/plain": [
       "  0%|          | 0/2719 [00:00<?, ?it/s]"
      ],
      "application/vnd.jupyter.widget-view+json": {
       "version_major": 2,
       "version_minor": 0,
       "model_id": "4edf5c98dd5a4e8ba028a955dd98d9b9"
      }
     },
     "metadata": {},
     "output_type": "display_data"
    },
    {
     "name": "stdout",
     "output_type": "stream",
     "text": [
      "finished_train_step, checking loss on train\n",
      "lr now → 0.000298\n",
      "checking loss on validation\n",
      "Train Epoch 3/30 Stats:'\n",
      "        *Train Loss: 3.3458, Train Top10Hit: 0.5924, Val NDCG@10:0.3423;'\n",
      "        *Val Loss: 3.5685,     Val Top10Hit: 0.5183,     Val NDCG@10:0.3047;'\n",
      "        \n",
      "\n",
      "\n",
      "**Epoch #3\n"
     ]
    },
    {
     "data": {
      "text/plain": [
       "  0%|          | 0/2719 [00:00<?, ?it/s]"
      ],
      "application/vnd.jupyter.widget-view+json": {
       "version_major": 2,
       "version_minor": 0,
       "model_id": "d67c8cb39d9d47efa509dcc99ec2b402"
      }
     },
     "metadata": {},
     "output_type": "display_data"
    },
    {
     "name": "stdout",
     "output_type": "stream",
     "text": [
      "finished_train_step, checking loss on train\n",
      "lr now → 0.000297\n",
      "checking loss on validation\n",
      "Train Epoch 4/30 Stats:'\n",
      "        *Train Loss: 3.2887, Train Top10Hit: 0.6064, Val NDCG@10:0.3538;'\n",
      "        *Val Loss: 3.5118,     Val Top10Hit: 0.5183,     Val NDCG@10:0.3074;'\n",
      "        \n",
      "\n",
      "\n",
      "**Epoch #4\n"
     ]
    },
    {
     "data": {
      "text/plain": [
       "  0%|          | 0/2719 [00:00<?, ?it/s]"
      ],
      "application/vnd.jupyter.widget-view+json": {
       "version_major": 2,
       "version_minor": 0,
       "model_id": "c614d6d3c072410cad22bc11722c8873"
      }
     },
     "metadata": {},
     "output_type": "display_data"
    },
    {
     "name": "stdout",
     "output_type": "stream",
     "text": [
      "finished_train_step, checking loss on train\n",
      "lr now → 0.000295\n",
      "checking loss on validation\n",
      "Train Epoch 5/30 Stats:'\n",
      "        *Train Loss: 3.2473, Train Top10Hit: 0.6162, Val NDCG@10:0.3619;'\n",
      "        *Val Loss: 3.5084,     Val Top10Hit: 0.5216,     Val NDCG@10:0.3155;'\n",
      "        \n",
      "\n",
      "\n",
      "**Epoch #5\n"
     ]
    },
    {
     "data": {
      "text/plain": [
       "  0%|          | 0/2719 [00:00<?, ?it/s]"
      ],
      "application/vnd.jupyter.widget-view+json": {
       "version_major": 2,
       "version_minor": 0,
       "model_id": "b3ae19d860ba4d18887059763dfbf740"
      }
     },
     "metadata": {},
     "output_type": "display_data"
    },
    {
     "name": "stdout",
     "output_type": "stream",
     "text": [
      "finished_train_step, checking loss on train\n",
      "lr now → 0.000293\n",
      "checking loss on validation\n",
      "Train Epoch 6/30 Stats:'\n",
      "        *Train Loss: 3.2165, Train Top10Hit: 0.6216, Val NDCG@10:0.3680;'\n",
      "        *Val Loss: 3.4666,     Val Top10Hit: 0.5681,     Val NDCG@10:0.3239;'\n",
      "        \n",
      "\n",
      "\n",
      "**Epoch #6\n"
     ]
    },
    {
     "data": {
      "text/plain": [
       "  0%|          | 0/2719 [00:00<?, ?it/s]"
      ],
      "application/vnd.jupyter.widget-view+json": {
       "version_major": 2,
       "version_minor": 0,
       "model_id": "c016b9e700e546d2afc912b2433ca710"
      }
     },
     "metadata": {},
     "output_type": "display_data"
    },
    {
     "name": "stdout",
     "output_type": "stream",
     "text": [
      "finished_train_step, checking loss on train\n",
      "lr now → 0.000290\n",
      "checking loss on validation\n",
      "Train Epoch 7/30 Stats:'\n",
      "        *Train Loss: 3.1955, Train Top10Hit: 0.6275, Val NDCG@10:0.3721;'\n",
      "        *Val Loss: 3.4467,     Val Top10Hit: 0.5615,     Val NDCG@10:0.3266;'\n",
      "        \n",
      "\n",
      "\n",
      "**Epoch #7\n"
     ]
    },
    {
     "data": {
      "text/plain": [
       "  0%|          | 0/2719 [00:00<?, ?it/s]"
      ],
      "application/vnd.jupyter.widget-view+json": {
       "version_major": 2,
       "version_minor": 0,
       "model_id": "bea8e4e58e674c3e832b592fb34ee408"
      }
     },
     "metadata": {},
     "output_type": "display_data"
    },
    {
     "name": "stdout",
     "output_type": "stream",
     "text": [
      "finished_train_step, checking loss on train\n",
      "lr now → 0.000287\n",
      "checking loss on validation\n",
      "Train Epoch 8/30 Stats:'\n",
      "        *Train Loss: 3.1706, Train Top10Hit: 0.6322, Val NDCG@10:0.3773;'\n",
      "        *Val Loss: 3.4740,     Val Top10Hit: 0.5349,     Val NDCG@10:0.3208;'\n",
      "        \n",
      "\n",
      "\n",
      "**Epoch #8\n"
     ]
    },
    {
     "data": {
      "text/plain": [
       "  0%|          | 0/2719 [00:00<?, ?it/s]"
      ],
      "application/vnd.jupyter.widget-view+json": {
       "version_major": 2,
       "version_minor": 0,
       "model_id": "8083449634734963b40d37e30ed94d3a"
      }
     },
     "metadata": {},
     "output_type": "display_data"
    },
    {
     "name": "stdout",
     "output_type": "stream",
     "text": [
      "finished_train_step, checking loss on train\n",
      "lr now → 0.000284\n",
      "checking loss on validation\n",
      "Train Epoch 9/30 Stats:'\n",
      "        *Train Loss: 3.1637, Train Top10Hit: 0.6341, Val NDCG@10:0.3793;'\n",
      "        *Val Loss: 3.4669,     Val Top10Hit: 0.5615,     Val NDCG@10:0.3212;'\n",
      "        \n",
      "\n",
      "\n",
      "**Epoch #9\n"
     ]
    },
    {
     "data": {
      "text/plain": [
       "  0%|          | 0/2719 [00:00<?, ?it/s]"
      ],
      "application/vnd.jupyter.widget-view+json": {
       "version_major": 2,
       "version_minor": 0,
       "model_id": "558a8d5fee874543bfd3da21e3e7d62e"
      }
     },
     "metadata": {},
     "output_type": "display_data"
    },
    {
     "name": "stdout",
     "output_type": "stream",
     "text": [
      "finished_train_step, checking loss on train\n",
      "lr now → 0.000281\n",
      "checking loss on validation\n",
      "Train Epoch 10/30 Stats:'\n",
      "        *Train Loss: 3.1419, Train Top10Hit: 0.6391, Val NDCG@10:0.3829;'\n",
      "        *Val Loss: 3.4719,     Val Top10Hit: 0.5482,     Val NDCG@10:0.3237;'\n",
      "        \n",
      "\n",
      "\n",
      "**Epoch #10\n"
     ]
    },
    {
     "data": {
      "text/plain": [
       "  0%|          | 0/2719 [00:00<?, ?it/s]"
      ],
      "application/vnd.jupyter.widget-view+json": {
       "version_major": 2,
       "version_minor": 0,
       "model_id": "109fad1340c2440ab8388c81624398ae"
      }
     },
     "metadata": {},
     "output_type": "display_data"
    },
    {
     "name": "stdout",
     "output_type": "stream",
     "text": [
      "finished_train_step, checking loss on train\n",
      "lr now → 0.000277\n",
      "checking loss on validation\n",
      "Train Epoch 11/30 Stats:'\n",
      "        *Train Loss: 3.1263, Train Top10Hit: 0.6440, Val NDCG@10:0.3869;'\n",
      "        *Val Loss: 3.4870,     Val Top10Hit: 0.5349,     Val NDCG@10:0.3162;'\n",
      "        \n",
      "\n",
      "\n",
      "**Epoch #11\n"
     ]
    },
    {
     "data": {
      "text/plain": [
       "  0%|          | 0/2719 [00:00<?, ?it/s]"
      ],
      "application/vnd.jupyter.widget-view+json": {
       "version_major": 2,
       "version_minor": 0,
       "model_id": "dc477ce3440a4f9dae103b93c0afd13f"
      }
     },
     "metadata": {},
     "output_type": "display_data"
    },
    {
     "name": "stdout",
     "output_type": "stream",
     "text": [
      "finished_train_step, checking loss on train\n",
      "lr now → 0.000272\n",
      "checking loss on validation\n",
      "Train Epoch 12/30 Stats:'\n",
      "        *Train Loss: 3.1111, Train Top10Hit: 0.6464, Val NDCG@10:0.3890;'\n",
      "        *Val Loss: 3.4533,     Val Top10Hit: 0.5449,     Val NDCG@10:0.3335;'\n",
      "        \n",
      "\n",
      "\n",
      "**Epoch #12\n"
     ]
    },
    {
     "data": {
      "text/plain": [
       "  0%|          | 0/2719 [00:00<?, ?it/s]"
      ],
      "application/vnd.jupyter.widget-view+json": {
       "version_major": 2,
       "version_minor": 0,
       "model_id": "bcdf26dabe0a473c91c827d6e3bc2b4e"
      }
     },
     "metadata": {},
     "output_type": "display_data"
    },
    {
     "name": "stdout",
     "output_type": "stream",
     "text": [
      "finished_train_step, checking loss on train\n",
      "lr now → 0.000268\n",
      "checking loss on validation\n",
      "Train Epoch 13/30 Stats:'\n",
      "        *Train Loss: 3.1037, Train Top10Hit: 0.6479, Val NDCG@10:0.3907;'\n",
      "        *Val Loss: 3.4752,     Val Top10Hit: 0.5648,     Val NDCG@10:0.3211;'\n",
      "        \n",
      "\n",
      "\n",
      "**Epoch #13\n"
     ]
    },
    {
     "data": {
      "text/plain": [
       "  0%|          | 0/2719 [00:00<?, ?it/s]"
      ],
      "application/vnd.jupyter.widget-view+json": {
       "version_major": 2,
       "version_minor": 0,
       "model_id": "992771032ed04673a2f8a73c4adc7e71"
      }
     },
     "metadata": {},
     "output_type": "display_data"
    },
    {
     "name": "stdout",
     "output_type": "stream",
     "text": [
      "finished_train_step, checking loss on train\n",
      "lr now → 0.000263\n",
      "checking loss on validation\n",
      "Train Epoch 14/30 Stats:'\n",
      "        *Train Loss: 3.0887, Train Top10Hit: 0.6521, Val NDCG@10:0.3934;'\n",
      "        *Val Loss: 3.5007,     Val Top10Hit: 0.5781,     Val NDCG@10:0.3289;'\n",
      "        \n",
      "\n",
      "\n",
      "**Epoch #14\n"
     ]
    },
    {
     "data": {
      "text/plain": [
       "  0%|          | 0/2719 [00:00<?, ?it/s]"
      ],
      "application/vnd.jupyter.widget-view+json": {
       "version_major": 2,
       "version_minor": 0,
       "model_id": "54d40def758248b1b3e8227b8ff2095a"
      }
     },
     "metadata": {},
     "output_type": "display_data"
    },
    {
     "name": "stdout",
     "output_type": "stream",
     "text": [
      "finished_train_step, checking loss on train\n",
      "lr now → 0.000258\n",
      "checking loss on validation\n",
      "Train Epoch 15/30 Stats:'\n",
      "        *Train Loss: 3.0813, Train Top10Hit: 0.6535, Val NDCG@10:0.3956;'\n",
      "        *Val Loss: 3.4974,     Val Top10Hit: 0.5349,     Val NDCG@10:0.3201;'\n",
      "        \n",
      "\n",
      "\n",
      "**Epoch #15\n"
     ]
    },
    {
     "data": {
      "text/plain": [
       "  0%|          | 0/2719 [00:00<?, ?it/s]"
      ],
      "application/vnd.jupyter.widget-view+json": {
       "version_major": 2,
       "version_minor": 0,
       "model_id": "b354407ee9ba4935888106ac8e32aa8d"
      }
     },
     "metadata": {},
     "output_type": "display_data"
    },
    {
     "name": "stdout",
     "output_type": "stream",
     "text": [
      "finished_train_step, checking loss on train\n",
      "lr now → 0.000252\n",
      "checking loss on validation\n",
      "Train Epoch 16/30 Stats:'\n",
      "        *Train Loss: 3.0769, Train Top10Hit: 0.6543, Val NDCG@10:0.3965;'\n",
      "        *Val Loss: 3.4757,     Val Top10Hit: 0.5548,     Val NDCG@10:0.3177;'\n",
      "        \n",
      "\n",
      "\n",
      "**Epoch #16\n"
     ]
    },
    {
     "data": {
      "text/plain": [
       "  0%|          | 0/2719 [00:00<?, ?it/s]"
      ],
      "application/vnd.jupyter.widget-view+json": {
       "version_major": 2,
       "version_minor": 0,
       "model_id": "0c259c6c6eb2455ca97039b6e49f6b7a"
      }
     },
     "metadata": {},
     "output_type": "display_data"
    },
    {
     "name": "stdout",
     "output_type": "stream",
     "text": [
      "finished_train_step, checking loss on train\n",
      "lr now → 0.000246\n",
      "checking loss on validation\n",
      "Train Epoch 17/30 Stats:'\n",
      "        *Train Loss: 3.0616, Train Top10Hit: 0.6586, Val NDCG@10:0.3994;'\n",
      "        *Val Loss: 3.5063,     Val Top10Hit: 0.5316,     Val NDCG@10:0.3173;'\n",
      "        \n",
      "\n",
      "\n",
      "**Epoch #17\n"
     ]
    },
    {
     "data": {
      "text/plain": [
       "  0%|          | 0/2719 [00:00<?, ?it/s]"
      ],
      "application/vnd.jupyter.widget-view+json": {
       "version_major": 2,
       "version_minor": 0,
       "model_id": "a6bce912eb2f4e02a68b750d62e6dbd8"
      }
     },
     "metadata": {},
     "output_type": "display_data"
    },
    {
     "name": "stdout",
     "output_type": "stream",
     "text": [
      "finished_train_step, checking loss on train\n",
      "lr now → 0.000240\n",
      "checking loss on validation\n",
      "Train Epoch 18/30 Stats:'\n",
      "        *Train Loss: 3.0558, Train Top10Hit: 0.6590, Val NDCG@10:0.4000;'\n",
      "        *Val Loss: 3.5090,     Val Top10Hit: 0.5648,     Val NDCG@10:0.3235;'\n",
      "        \n",
      "\n",
      "\n",
      "**Epoch #18\n"
     ]
    },
    {
     "data": {
      "text/plain": [
       "  0%|          | 0/2719 [00:00<?, ?it/s]"
      ],
      "application/vnd.jupyter.widget-view+json": {
       "version_major": 2,
       "version_minor": 0,
       "model_id": "3540724b85134111964ec2a206f05f38"
      }
     },
     "metadata": {},
     "output_type": "display_data"
    },
    {
     "name": "stdout",
     "output_type": "stream",
     "text": [
      "finished_train_step, checking loss on train\n",
      "lr now → 0.000234\n",
      "checking loss on validation\n",
      "Train Epoch 19/30 Stats:'\n",
      "        *Train Loss: 3.0506, Train Top10Hit: 0.6594, Val NDCG@10:0.4010;'\n",
      "        *Val Loss: 3.5189,     Val Top10Hit: 0.5415,     Val NDCG@10:0.3165;'\n",
      "        \n",
      "\n",
      "\n",
      "**Epoch #19\n"
     ]
    },
    {
     "data": {
      "text/plain": [
       "  0%|          | 0/2719 [00:00<?, ?it/s]"
      ],
      "application/vnd.jupyter.widget-view+json": {
       "version_major": 2,
       "version_minor": 0,
       "model_id": "109f9d407a644a998b000411ccb3e9b9"
      }
     },
     "metadata": {},
     "output_type": "display_data"
    },
    {
     "name": "stdout",
     "output_type": "stream",
     "text": [
      "finished_train_step, checking loss on train\n",
      "lr now → 0.000228\n",
      "checking loss on validation\n",
      "Train Epoch 20/30 Stats:'\n",
      "        *Train Loss: 3.0398, Train Top10Hit: 0.6636, Val NDCG@10:0.4041;'\n",
      "        *Val Loss: 3.5222,     Val Top10Hit: 0.5382,     Val NDCG@10:0.3112;'\n",
      "        \n",
      "\n",
      "\n",
      "**Epoch #20\n"
     ]
    },
    {
     "data": {
      "text/plain": [
       "  0%|          | 0/2719 [00:00<?, ?it/s]"
      ],
      "application/vnd.jupyter.widget-view+json": {
       "version_major": 2,
       "version_minor": 0,
       "model_id": "f10dbe5c75b840d786ba03f413c4094a"
      }
     },
     "metadata": {},
     "output_type": "display_data"
    },
    {
     "name": "stdout",
     "output_type": "stream",
     "text": [
      "finished_train_step, checking loss on train\n",
      "lr now → 0.000221\n",
      "checking loss on validation\n",
      "Train Epoch 21/30 Stats:'\n",
      "        *Train Loss: 3.0361, Train Top10Hit: 0.6647, Val NDCG@10:0.4051;'\n",
      "        *Val Loss: 3.4955,     Val Top10Hit: 0.5183,     Val NDCG@10:0.3040;'\n",
      "        \n",
      "\n",
      "\n",
      "**Epoch #21\n"
     ]
    },
    {
     "data": {
      "text/plain": [
       "  0%|          | 0/2719 [00:00<?, ?it/s]"
      ],
      "application/vnd.jupyter.widget-view+json": {
       "version_major": 2,
       "version_minor": 0,
       "model_id": "7458ff7eff65410db0cdc8fbbf0f3ead"
      }
     },
     "metadata": {},
     "output_type": "display_data"
    },
    {
     "name": "stdout",
     "output_type": "stream",
     "text": [
      "finished_train_step, checking loss on train\n",
      "lr now → 0.000214\n",
      "checking loss on validation\n",
      "Train Epoch 22/30 Stats:'\n",
      "        *Train Loss: 3.0300, Train Top10Hit: 0.6653, Val NDCG@10:0.4056;'\n",
      "        *Val Loss: 3.5026,     Val Top10Hit: 0.5316,     Val NDCG@10:0.3177;'\n",
      "        \n",
      "\n",
      "\n",
      "**Epoch #22\n"
     ]
    },
    {
     "data": {
      "text/plain": [
       "  0%|          | 0/2719 [00:00<?, ?it/s]"
      ],
      "application/vnd.jupyter.widget-view+json": {
       "version_major": 2,
       "version_minor": 0,
       "model_id": "fce04f0260a440cda90dec70b75350e6"
      }
     },
     "metadata": {},
     "output_type": "display_data"
    },
    {
     "name": "stdout",
     "output_type": "stream",
     "text": [
      "finished_train_step, checking loss on train\n",
      "lr now → 0.000207\n",
      "checking loss on validation\n",
      "Train Epoch 23/30 Stats:'\n",
      "        *Train Loss: 3.0208, Train Top10Hit: 0.6668, Val NDCG@10:0.4077;'\n",
      "        *Val Loss: 3.5203,     Val Top10Hit: 0.5216,     Val NDCG@10:0.2999;'\n",
      "        \n",
      "\n",
      "\n",
      "**Epoch #23\n"
     ]
    },
    {
     "data": {
      "text/plain": [
       "  0%|          | 0/2719 [00:00<?, ?it/s]"
      ],
      "application/vnd.jupyter.widget-view+json": {
       "version_major": 2,
       "version_minor": 0,
       "model_id": "82590adf5353414c86dd8c90567dc92b"
      }
     },
     "metadata": {},
     "output_type": "display_data"
    },
    {
     "name": "stdout",
     "output_type": "stream",
     "text": [
      "finished_train_step, checking loss on train\n",
      "lr now → 0.000200\n",
      "checking loss on validation\n",
      "Train Epoch 24/30 Stats:'\n",
      "        *Train Loss: 3.0164, Train Top10Hit: 0.6688, Val NDCG@10:0.4089;'\n",
      "        *Val Loss: 3.5194,     Val Top10Hit: 0.5249,     Val NDCG@10:0.3113;'\n",
      "        \n",
      "\n",
      "\n",
      "**Epoch #24\n"
     ]
    },
    {
     "data": {
      "text/plain": [
       "  0%|          | 0/2719 [00:00<?, ?it/s]"
      ],
      "application/vnd.jupyter.widget-view+json": {
       "version_major": 2,
       "version_minor": 0,
       "model_id": "309f8d32053f4ca698837e24c98d6349"
      }
     },
     "metadata": {},
     "output_type": "display_data"
    },
    {
     "name": "stdout",
     "output_type": "stream",
     "text": [
      "finished_train_step, checking loss on train\n",
      "lr now → 0.000193\n",
      "checking loss on validation\n",
      "Train Epoch 25/30 Stats:'\n",
      "        *Train Loss: 3.0110, Train Top10Hit: 0.6688, Val NDCG@10:0.4091;'\n",
      "        *Val Loss: 3.5213,     Val Top10Hit: 0.5216,     Val NDCG@10:0.3055;'\n",
      "        \n",
      "\n",
      "\n",
      "**Epoch #25\n"
     ]
    },
    {
     "data": {
      "text/plain": [
       "  0%|          | 0/2719 [00:00<?, ?it/s]"
      ],
      "application/vnd.jupyter.widget-view+json": {
       "version_major": 2,
       "version_minor": 0,
       "model_id": "ec67a049524a4626a22dd5a2fb3274be"
      }
     },
     "metadata": {},
     "output_type": "display_data"
    },
    {
     "name": "stdout",
     "output_type": "stream",
     "text": [
      "finished_train_step, checking loss on train\n",
      "lr now → 0.000185\n",
      "checking loss on validation\n",
      "Train Epoch 26/30 Stats:'\n",
      "        *Train Loss: 3.0005, Train Top10Hit: 0.6727, Val NDCG@10:0.4116;'\n",
      "        *Val Loss: 3.5439,     Val Top10Hit: 0.5615,     Val NDCG@10:0.3162;'\n",
      "        \n",
      "\n",
      "\n",
      "**Epoch #26\n"
     ]
    },
    {
     "data": {
      "text/plain": [
       "  0%|          | 0/2719 [00:00<?, ?it/s]"
      ],
      "application/vnd.jupyter.widget-view+json": {
       "version_major": 2,
       "version_minor": 0,
       "model_id": "2c99822510f347b8b3f5dbab90cfb6a0"
      }
     },
     "metadata": {},
     "output_type": "display_data"
    },
    {
     "name": "stdout",
     "output_type": "stream",
     "text": [
      "finished_train_step, checking loss on train\n",
      "lr now → 0.000178\n",
      "checking loss on validation\n",
      "Train Epoch 27/30 Stats:'\n",
      "        *Train Loss: 3.0039, Train Top10Hit: 0.6712, Val NDCG@10:0.4111;'\n",
      "        *Val Loss: 3.5353,     Val Top10Hit: 0.5282,     Val NDCG@10:0.3061;'\n",
      "        \n",
      "\n",
      "\n",
      "**Epoch #27\n"
     ]
    },
    {
     "data": {
      "text/plain": [
       "  0%|          | 0/2719 [00:00<?, ?it/s]"
      ],
      "application/vnd.jupyter.widget-view+json": {
       "version_major": 2,
       "version_minor": 0,
       "model_id": "725c9cbf54374fbaa5ed15569fd8b22e"
      }
     },
     "metadata": {},
     "output_type": "display_data"
    },
    {
     "name": "stdout",
     "output_type": "stream",
     "text": [
      "finished_train_step, checking loss on train\n",
      "lr now → 0.000170\n",
      "checking loss on validation\n",
      "Train Epoch 28/30 Stats:'\n",
      "        *Train Loss: 3.0010, Train Top10Hit: 0.6707, Val NDCG@10:0.4113;'\n",
      "        *Val Loss: 3.5493,     Val Top10Hit: 0.5216,     Val NDCG@10:0.3025;'\n",
      "        \n",
      "\n",
      "\n",
      "**Epoch #28\n"
     ]
    },
    {
     "data": {
      "text/plain": [
       "  0%|          | 0/2719 [00:00<?, ?it/s]"
      ],
      "application/vnd.jupyter.widget-view+json": {
       "version_major": 2,
       "version_minor": 0,
       "model_id": "fd7e49b39c7448afaf31af93bb492a5d"
      }
     },
     "metadata": {},
     "output_type": "display_data"
    },
    {
     "name": "stdout",
     "output_type": "stream",
     "text": [
      "finished_train_step, checking loss on train\n",
      "lr now → 0.000163\n",
      "checking loss on validation\n",
      "Train Epoch 29/30 Stats:'\n",
      "        *Train Loss: 2.9998, Train Top10Hit: 0.6721, Val NDCG@10:0.4116;'\n",
      "        *Val Loss: 3.5834,     Val Top10Hit: 0.5349,     Val NDCG@10:0.3094;'\n",
      "        \n",
      "\n",
      "\n",
      "**Epoch #29\n"
     ]
    },
    {
     "data": {
      "text/plain": [
       "  0%|          | 0/2719 [00:00<?, ?it/s]"
      ],
      "application/vnd.jupyter.widget-view+json": {
       "version_major": 2,
       "version_minor": 0,
       "model_id": "9327ac7a84a84952a28cae2e95aa65c2"
      }
     },
     "metadata": {},
     "output_type": "display_data"
    },
    {
     "name": "stdout",
     "output_type": "stream",
     "text": [
      "finished_train_step, checking loss on train\n",
      "lr now → 0.000155\n",
      "checking loss on validation\n",
      "Train Epoch 30/30 Stats:'\n",
      "        *Train Loss: 2.9911, Train Top10Hit: 0.6745, Val NDCG@10:0.4135;'\n",
      "        *Val Loss: 3.5253,     Val Top10Hit: 0.5282,     Val NDCG@10:0.3073;'\n",
      "        \n",
      "Training complete!\n"
     ]
    }
   ],
   "execution_count": 15
  },
  {
   "metadata": {
    "ExecuteTime": {
     "end_time": "2025-09-30T14:48:49.936226Z",
     "start_time": "2025-09-30T14:48:49.919496Z"
    }
   },
   "cell_type": "code",
   "source": [
    "from src.utils.evaluation_functions import evaluate_recommender\n",
    "loss_fn = torch.nn.BCEWithLogitsLoss()\n",
    "device = torch.device('cuda' if torch.cuda.is_available() else 'cpu')\n",
    "\n",
    "loss, hr10, ndcg10 = evaluate_recommender(model=rec_model,\n",
    "                     device=device,\n",
    "                     k=10,\n",
    "                     data_loader=test_loader,\n",
    "                     loss_fn=loss_fn,\n",
    "                     n_sampling_eval=100)\n",
    "loss, hr10, ndcg10"
   ],
   "id": "2586ef7b4512ece8",
   "outputs": [
    {
     "data": {
      "text/plain": [
       "(3.4570388865115036, 0.6069651776878395, 0.3439032772484901)"
      ]
     },
     "execution_count": 44,
     "metadata": {},
     "output_type": "execute_result"
    }
   ],
   "execution_count": 44
  },
  {
   "metadata": {},
   "cell_type": "code",
   "outputs": [],
   "execution_count": null,
   "source": [
    "# chosen model is best HR@10 after 15 epochs, which here is epoch #17.\n",
    "# Note that may have differences with Machine used, this notebook ran over CPU(M3), while paper results ran over L4(CUDA)"
   ],
   "id": "5f235d6bcfccd009"
  }
 ],
 "metadata": {
  "kernelspec": {
   "display_name": "Python 3",
   "language": "python",
   "name": "python3"
  },
  "language_info": {
   "codemirror_mode": {
    "name": "ipython",
    "version": 2
   },
   "file_extension": ".py",
   "mimetype": "text/x-python",
   "name": "python",
   "nbconvert_exporter": "python",
   "pygments_lexer": "ipython2",
   "version": "2.7.6"
  }
 },
 "nbformat": 4,
 "nbformat_minor": 5
}
