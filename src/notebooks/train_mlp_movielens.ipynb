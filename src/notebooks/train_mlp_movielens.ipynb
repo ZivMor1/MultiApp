{
 "cells": [
  {
   "metadata": {},
   "cell_type": "markdown",
   "source": "# Packs ",
   "id": "189499837a14c3cd"
  },
  {
   "metadata": {
    "ExecuteTime": {
     "end_time": "2025-09-30T14:12:57.325766Z",
     "start_time": "2025-09-30T14:12:56.668446Z"
    }
   },
   "cell_type": "code",
   "source": [
    "import pandas as pd\n",
    "import torch"
   ],
   "id": "4b62998793bc000b",
   "outputs": [],
   "execution_count": 1
  },
  {
   "metadata": {
    "ExecuteTime": {
     "end_time": "2025-09-30T14:13:08.997572Z",
     "start_time": "2025-09-30T14:13:08.995255Z"
    }
   },
   "cell_type": "code",
   "source": [
    "print(\"MPS built:\", torch.backends.mps.is_built())\n",
    "print(\"MPS available:\", torch.backends.mps.is_available())"
   ],
   "id": "e9ae41cc91b3eb7a",
   "outputs": [
    {
     "name": "stdout",
     "output_type": "stream",
     "text": [
      "MPS built: True\n",
      "MPS available: True\n"
     ]
    }
   ],
   "execution_count": 3
  },
  {
   "metadata": {},
   "cell_type": "markdown",
   "source": "# Read Data",
   "id": "85131864498d9721"
  },
  {
   "metadata": {
    "ExecuteTime": {
     "end_time": "2025-09-30T14:13:15.882642Z",
     "start_time": "2025-09-30T14:13:12.213637Z"
    }
   },
   "cell_type": "code",
   "source": [
    "train_df = pd.read_parquet('../artifacts/movielens_splits/df_train.parquet') \n",
    "val_df = pd.read_parquet('../artifacts/movielens_splits/df_val.parquet')\n",
    "test_df = pd.read_parquet('../artifacts/movielens_splits/df_test.parquet')"
   ],
   "id": "13ca3a46414ce73e",
   "outputs": [],
   "execution_count": 4
  },
  {
   "metadata": {
    "ExecuteTime": {
     "end_time": "2025-09-30T14:13:15.894083Z",
     "start_time": "2025-09-30T14:13:15.884285Z"
    }
   },
   "cell_type": "code",
   "source": "train_df.head()",
   "id": "f10bd68874dd555c",
   "outputs": [
    {
     "data": {
      "text/plain": [
       "   user_id                                        seq_actions  \\\n",
       "0     4671  [movie_2634, movie_110, movie_3702, movie_1961...   \n",
       "1       53  [movie_902, movie_694, movie_1961, movie_1193,...   \n",
       "2     5377  [movie_3480, movie_1198, movie_1097, movie_140...   \n",
       "3     2565  [movie_587, movie_2072, movie_2085, movie_19, ...   \n",
       "4      123  [movie_2762, movie_356, movie_1320, movie_1268...   \n",
       "\n",
       "                                           seq_times      target  hist_len  \n",
       "0  [0, 0, 0, 0, 0, 0, 0, 0, 0, 0, 0, 0, 0, 0, 0, ...   movie_165       144  \n",
       "1  [0, 0, 0, 0, 0, 0, 0, 0, 0, 0, 0, 0, 0, 0, 0, ...  movie_2148       400  \n",
       "2  [0, 0, 0, 0, 0, 0, 0, 0, 0, 0, 0, 0, 0, 0, 0, ...  movie_1036        25  \n",
       "3  [0, 0, 0, 0, 0, 0, 0, 0, 0, 0, 0, 0, 0, 0, 0, ...   movie_542       180  \n",
       "4  [0, 0, 0, 0, 0, 0, 0, 0, 0, 0, 0, 0, 0, 0, 0, ...  movie_1304        65  "
      ],
      "text/html": [
       "<div>\n",
       "<style scoped>\n",
       "    .dataframe tbody tr th:only-of-type {\n",
       "        vertical-align: middle;\n",
       "    }\n",
       "\n",
       "    .dataframe tbody tr th {\n",
       "        vertical-align: top;\n",
       "    }\n",
       "\n",
       "    .dataframe thead th {\n",
       "        text-align: right;\n",
       "    }\n",
       "</style>\n",
       "<table border=\"1\" class=\"dataframe\">\n",
       "  <thead>\n",
       "    <tr style=\"text-align: right;\">\n",
       "      <th></th>\n",
       "      <th>user_id</th>\n",
       "      <th>seq_actions</th>\n",
       "      <th>seq_times</th>\n",
       "      <th>target</th>\n",
       "      <th>hist_len</th>\n",
       "    </tr>\n",
       "  </thead>\n",
       "  <tbody>\n",
       "    <tr>\n",
       "      <th>0</th>\n",
       "      <td>4671</td>\n",
       "      <td>[movie_2634, movie_110, movie_3702, movie_1961...</td>\n",
       "      <td>[0, 0, 0, 0, 0, 0, 0, 0, 0, 0, 0, 0, 0, 0, 0, ...</td>\n",
       "      <td>movie_165</td>\n",
       "      <td>144</td>\n",
       "    </tr>\n",
       "    <tr>\n",
       "      <th>1</th>\n",
       "      <td>53</td>\n",
       "      <td>[movie_902, movie_694, movie_1961, movie_1193,...</td>\n",
       "      <td>[0, 0, 0, 0, 0, 0, 0, 0, 0, 0, 0, 0, 0, 0, 0, ...</td>\n",
       "      <td>movie_2148</td>\n",
       "      <td>400</td>\n",
       "    </tr>\n",
       "    <tr>\n",
       "      <th>2</th>\n",
       "      <td>5377</td>\n",
       "      <td>[movie_3480, movie_1198, movie_1097, movie_140...</td>\n",
       "      <td>[0, 0, 0, 0, 0, 0, 0, 0, 0, 0, 0, 0, 0, 0, 0, ...</td>\n",
       "      <td>movie_1036</td>\n",
       "      <td>25</td>\n",
       "    </tr>\n",
       "    <tr>\n",
       "      <th>3</th>\n",
       "      <td>2565</td>\n",
       "      <td>[movie_587, movie_2072, movie_2085, movie_19, ...</td>\n",
       "      <td>[0, 0, 0, 0, 0, 0, 0, 0, 0, 0, 0, 0, 0, 0, 0, ...</td>\n",
       "      <td>movie_542</td>\n",
       "      <td>180</td>\n",
       "    </tr>\n",
       "    <tr>\n",
       "      <th>4</th>\n",
       "      <td>123</td>\n",
       "      <td>[movie_2762, movie_356, movie_1320, movie_1268...</td>\n",
       "      <td>[0, 0, 0, 0, 0, 0, 0, 0, 0, 0, 0, 0, 0, 0, 0, ...</td>\n",
       "      <td>movie_1304</td>\n",
       "      <td>65</td>\n",
       "    </tr>\n",
       "  </tbody>\n",
       "</table>\n",
       "</div>"
      ]
     },
     "execution_count": 5,
     "metadata": {},
     "output_type": "execute_result"
    }
   ],
   "execution_count": 5
  },
  {
   "metadata": {
    "ExecuteTime": {
     "end_time": "2025-09-30T14:13:24.384902Z",
     "start_time": "2025-09-30T14:13:15.894538Z"
    }
   },
   "cell_type": "code",
   "source": [
    "from src.utils.general import flatten_list_of_lists\n",
    "\n",
    "train_flows_list = [list(flow) for flow in train_df.seq_actions.tolist()]\n",
    "train_times_flows_list = [list(times_flow) for times_flow in train_df.seq_times.tolist()]\n",
    "distinct_new_tokens_list = list(set(flatten_list_of_lists(train_flows_list)))\n",
    "len(train_flows_list), len(distinct_new_tokens_list)"
   ],
   "id": "1e83bc5d48db0411",
   "outputs": [
    {
     "data": {
      "text/plain": [
       "(695951, 3599)"
      ]
     },
     "execution_count": 6,
     "metadata": {},
     "output_type": "execute_result"
    }
   ],
   "execution_count": 6
  },
  {
   "metadata": {
    "ExecuteTime": {
     "end_time": "2025-09-30T14:13:24.388549Z",
     "start_time": "2025-09-30T14:13:24.386079Z"
    }
   },
   "cell_type": "code",
   "source": [
    "movies_vocab = {}\n",
    "for i,m in enumerate(distinct_new_tokens_list):\n",
    "  movies_vocab[m]=i\n",
    "\n",
    "len(movies_vocab)"
   ],
   "id": "36a8939d8fa8236f",
   "outputs": [
    {
     "data": {
      "text/plain": [
       "3599"
      ]
     },
     "execution_count": 7,
     "metadata": {},
     "output_type": "execute_result"
    }
   ],
   "execution_count": 7
  },
  {
   "metadata": {
    "ExecuteTime": {
     "end_time": "2025-09-30T14:13:24.529718Z",
     "start_time": "2025-09-30T14:13:24.389244Z"
    }
   },
   "cell_type": "code",
   "source": [
    "from src.utils.tokenizer import MultiAppBehaviorTokenizer\n",
    "\n",
    "tokenizer = MultiAppBehaviorTokenizer(vocab=movies_vocab)"
   ],
   "id": "672ec54f378954e4",
   "outputs": [],
   "execution_count": 8
  },
  {
   "metadata": {
    "ExecuteTime": {
     "end_time": "2025-09-30T14:13:44.367860Z",
     "start_time": "2025-09-30T14:13:24.530220Z"
    }
   },
   "cell_type": "code",
   "source": [
    "train_seq_embeddings_path = '../artifacts/movielens_embeddings/x_train_embeddings.pt' \n",
    "val_seq_embeddings_path = '../artifacts/movielens_embeddings/x_val_embeddings.pt'\n",
    "test_seq_embeddings_path = '../artifacts/movielens_embeddings/x_test_embeddings.pt'\n",
    "\n",
    "x_train = torch.tensor(torch.load(train_seq_embeddings_path), dtype=torch.float32)\n",
    "x_val = torch.tensor(torch.load(val_seq_embeddings_path), dtype=torch.float32)\n",
    "x_test = torch.tensor(torch.load(test_seq_embeddings_path), dtype=torch.float32)"
   ],
   "id": "7630241371dda756",
   "outputs": [],
   "execution_count": 9
  },
  {
   "metadata": {
    "ExecuteTime": {
     "end_time": "2025-09-30T14:13:44.374521Z",
     "start_time": "2025-09-30T14:13:44.368959Z"
    }
   },
   "cell_type": "code",
   "source": [
    "y_train_path = '../artifacts/movielens_embeddings/y_train.pt'\n",
    "y_val_path = '../artifacts/movielens_embeddings/y_val.pt'\n",
    "y_test_path = '../artifacts/movielens_embeddings/y_test.pt'\n",
    "\n",
    "y_train = torch.load(y_train_path)\n",
    "y_val = torch.load(y_val_path)\n",
    "y_test = torch.load(y_test_path)"
   ],
   "id": "6dbaa893ab9e0163",
   "outputs": [],
   "execution_count": 10
  },
  {
   "metadata": {
    "ExecuteTime": {
     "end_time": "2025-09-30T14:13:44.379113Z",
     "start_time": "2025-09-30T14:13:44.375178Z"
    }
   },
   "cell_type": "code",
   "source": "y_test[:10]",
   "id": "1a9dd77b41dfe109",
   "outputs": [
    {
     "data": {
      "text/plain": [
       "tensor([1358, 1181, 2883, 1574, 2222,   58, 2591, 2141, 1086,  407, 3578, 2790,\n",
       "         826, 2635, 2111,  547, 1130, 2111, 1499, 1976, 1598,  106, 2871,  553,\n",
       "        2786, 1847, 2106, 1312, 2828, 1920, 2424, 2879,  376, 1471, 2605, 3474,\n",
       "        2420,  551, 1920, 2811, 2830, 2123, 2761,  324, 2850, 1181, 1863, 1922,\n",
       "        1293, 1014, 2514, 1279, 2023, 2436, 1090,  277, 2408,   52, 1810, 2998,\n",
       "         273, 1863, 3289, 3278, 3580, 3498, 2605, 1428,  545,  142, 1881,  928,\n",
       "        1605, 3234,  854, 1721, 2679, 2866,  620, 1764, 1922, 3002, 1043,   74,\n",
       "        2677,  448, 1774, 2661,  883,  579, 3127, 2374, 2938,  883,  142, 3494,\n",
       "        1863, 3109, 1661,  308, 1176, 1641, 2376, 2518,  362, 1742, 2249,  286,\n",
       "         145, 1805, 2342, 1461,  207, 2818,  225, 3299, 2537, 2922,  240, 3339,\n",
       "         204,  308, 2514, 2792, 1771, 2514, 3117, 2010, 3523,  114, 1976,  637,\n",
       "        2084, 1669, 2937, 1219, 1863,  301,  896, 2846, 1777,  768, 2977,  981,\n",
       "        1396,  955, 3574, 2957,  115, 2468,  765, 1951, 2256, 2989, 1022, 3014,\n",
       "        1512, 1361, 2178,  959, 1802, 2249, 2218, 2006, 1124, 2945, 1438,   16,\n",
       "        2783, 2514, 3480,  457,  266, 3058, 1042, 1487,  689,  409, 2466,  916,\n",
       "        1976, 1468, 2426, 2547, 3506, 2349, 1881, 2693, 2393, 1091, 2249, 1459,\n",
       "          63,  762, 2508, 1916, 1891, 2817,  459, 1872,  199,  248, 1578, 3317,\n",
       "        2656, 2671, 1382,  596, 1866, 1310, 2486, 1546, 3578,  547, 2106,  142,\n",
       "         105,  492, 1845, 1546, 1910,  991, 3503, 2752,    0, 3544, 2537,  610,\n",
       "        3469,  338, 2804, 3423, 3393, 3299, 2833, 2872, 1336,  216, 1094, 3313,\n",
       "        3271, 2106,  633,  342, 2514,  156, 1845,   45,  328,  603,   51, 3543,\n",
       "         649, 1513, 2126, 2228,  481, 2248,  892, 2009,  695,   42,  156,  537,\n",
       "         283, 1617, 1106, 2867,  362,    9, 1004,  781,  649, 1791, 1235, 1817,\n",
       "        2537, 2913, 3281, 1262, 2841, 1835, 1181,  606, 2612, 1031, 1199, 2654,\n",
       "         116, 2740,  762,  261, 2779, 2537, 2553, 3540, 2287, 1026, 1644, 2966,\n",
       "        1231, 2642, 3171, 1513, 2295, 2734, 2392,  142, 2681,  207, 2849, 1523,\n",
       "         959, 1279, 2222,   18, 3058, 3194, 3340,   76,  308, 3543, 3327, 2249,\n",
       "         928, 3129,  270, 3530, 2815,  997, 1266,  878, 2850,  684,  614, 1262,\n",
       "        1967, 2866,   89, 2195, 2852,  553, 2582, 2031,  384,  606, 2819, 1358,\n",
       "        2442, 1800, 1286, 2223, 1236, 3396, 3341,  959, 1016, 1366, 1069, 1022,\n",
       "         853, 2950,  301,  142, 3165, 1945, 2201,  684, 1742, 2010,   74,  820,\n",
       "        1647,  414, 2537, 3039, 1765, 2137, 3155, 1523, 1928, 3117,    0, 1045,\n",
       "        2762, 3058,  971, 1466, 2761, 1977, 2806, 1110, 2253, 3511, 3136, 1734,\n",
       "        2852,  301,  617,   11, 1699, 3299, 2373,  595,  412, 2996,  302,  585,\n",
       "        3124, 3567, 1140, 2826, 3581,  716, 1995, 2638, 3072, 2025, 2709,  986,\n",
       "        1373, 2507,  603, 1147, 1801, 2867, 3524, 2344, 1413, 2913, 2906, 2482,\n",
       "        2460, 1584, 2092,  380, 3578, 2922, 1425, 2734,  520, 1309,  266,  516,\n",
       "        1252, 2132, 3598, 2780, 3574, 2771, 1775, 2660,  603, 2996,  437, 2537,\n",
       "        1255, 2790,  689, 3284, 1976, 1112, 1514,  787, 2107, 1990, 1101,  407,\n",
       "        2132, 2838, 1906,  873,  319, 3058, 2326, 3011,  854, 1540,  412, 2320,\n",
       "         109, 3211, 2202, 3444, 1413,  790, 2222, 3037,  213, 1977, 1976, 2468,\n",
       "        1948, 3290, 3110, 2031, 1484,  645,  138, 2248, 2249, 2010, 2000, 1544,\n",
       "        3047, 2977, 2468, 3082,  190, 2817,  766, 2789, 1540, 2280,  398,  142,\n",
       "        2693, 1180, 1506, 2977, 3278, 1099, 1136,  927, 1115, 1353, 2392, 3058,\n",
       "        2846, 3522, 3546, 1262,  309,  248,  213, 1232, 1727, 3571, 1771, 3114,\n",
       "         338,  561, 1711, 2938, 1699, 3542,  785, 1731,  121, 3503, 1331, 2627,\n",
       "        2132, 1178,  455, 1139, 1483, 3164, 1353,  919, 1413, 1120,  698, 2707,\n",
       "        2526, 3337,  946, 2996, 3327,  309, 2234,  959, 2537, 1601, 1719, 2079,\n",
       "         499, 2886,  974, 3120, 2753,  412,  799, 1032, 2994, 2266, 2248, 3456,\n",
       "         923, 3419,  338, 1076,  283, 3109, 3503, 1785,  679, 2170, 3469,  533,\n",
       "        3328,  678, 2289])"
      ]
     },
     "execution_count": 11,
     "metadata": {},
     "output_type": "execute_result"
    }
   ],
   "execution_count": 11
  },
  {
   "metadata": {
    "ExecuteTime": {
     "end_time": "2025-09-30T14:13:44.381960Z",
     "start_time": "2025-09-30T14:13:44.379831Z"
    }
   },
   "cell_type": "code",
   "source": "x_train.shape, x_val.shape, x_test.shape, y_train.shape, y_val.shape, y_test.shape",
   "id": "1c46cf6e13d695ec",
   "outputs": [
    {
     "data": {
      "text/plain": [
       "(torch.Size([695951, 512]),\n",
       " torch.Size([301, 512]),\n",
       " torch.Size([603, 512]),\n",
       " torch.Size([695951]),\n",
       " torch.Size([301]),\n",
       " torch.Size([603]))"
      ]
     },
     "execution_count": 12,
     "metadata": {},
     "output_type": "execute_result"
    }
   ],
   "execution_count": 12
  },
  {
   "metadata": {},
   "cell_type": "markdown",
   "source": "# Create loaders",
   "id": "82d4c6aac997f16d"
  },
  {
   "metadata": {
    "ExecuteTime": {
     "end_time": "2025-09-30T14:13:44.384916Z",
     "start_time": "2025-09-30T14:13:44.383605Z"
    }
   },
   "cell_type": "code",
   "source": [
    "train_batch_size = 256\n",
    "val_batch_size = 128"
   ],
   "id": "e087e47797509194",
   "outputs": [],
   "execution_count": 13
  },
  {
   "metadata": {
    "ExecuteTime": {
     "end_time": "2025-09-30T14:13:44.388163Z",
     "start_time": "2025-09-30T14:13:44.385549Z"
    }
   },
   "cell_type": "code",
   "source": [
    "from torch.utils.data import DataLoader, TensorDataset\n",
    "\n",
    "g = torch.Generator().manual_seed(42)\n",
    "\n",
    "train_dataset = TensorDataset(x_train, y_train)\n",
    "train_loader = DataLoader(train_dataset, batch_size=train_batch_size, shuffle=False, generator=g)\n",
    "\n",
    "val_dataset = TensorDataset(x_val, y_val)\n",
    "val_loader = DataLoader(val_dataset, batch_size=val_batch_size, shuffle=False)\n",
    "\n",
    "test_dataset = TensorDataset(x_test, y_test)\n",
    "test_loader = DataLoader(test_dataset, batch_size=val_batch_size, shuffle=False, generator=g)\n"
   ],
   "id": "4bede926d263a7a2",
   "outputs": [],
   "execution_count": 14
  },
  {
   "metadata": {
    "ExecuteTime": {
     "end_time": "2025-09-30T14:13:44.395788Z",
     "start_time": "2025-09-30T14:13:44.388773Z"
    }
   },
   "cell_type": "code",
   "source": [
    "from src.models.mlp_architecture import MLPNextItemPrediction\n",
    "from src.utils.general import count_model_parameters, set_seed\n",
    "\n",
    "set_seed(42)\n",
    "rec_model = MLPNextItemPrediction(recs_size=len(movies_vocab)+1)\n",
    "count_model_parameters(rec_model)"
   ],
   "id": "380a676c70327d56",
   "outputs": [
    {
     "name": "stdout",
     "output_type": "stream",
     "text": [
      "\n",
      "    Total model parameters: 456655\n",
      "    Total trainable parameters: 456655\n",
      "    Total non-trainable parameters: 0\n",
      "    \n"
     ]
    },
    {
     "data": {
      "text/plain": [
       "(456655, 456655, 0)"
      ]
     },
     "execution_count": 15,
     "metadata": {},
     "output_type": "execute_result"
    }
   ],
   "execution_count": 15
  },
  {
   "metadata": {},
   "cell_type": "markdown",
   "source": "# Train",
   "id": "2cee298f3464ed50"
  },
  {
   "metadata": {
    "ExecuteTime": {
     "end_time": "2025-09-30T14:15:38.950996Z",
     "start_time": "2025-09-30T14:15:38.947746Z"
    }
   },
   "cell_type": "code",
   "source": [
    "from src.utils.training_functions import train_model\n",
    "\n",
    "learning_rate = 3e-4\n",
    "batch_size = 256\n",
    "epochs = 60\n",
    "set_seed(42)\n",
    "rec_model = MLPNextItemPrediction(recs_size=len(movies_vocab)+1)\n",
    "device = torch.device(\"mps\")\n",
    "\n",
    "best_val = train_model(model=rec_model,\n",
    "                       train_loader=train_loader,\n",
    "                       val_loader=val_loader,\n",
    "                       learning_rate=learning_rate,\n",
    "                       epochs=epochs, checkpoints_dir_path='/content', \n",
    "                       save_checkpoints=False, apply_scheduler=True, device=device)"
   ],
   "id": "fbbe08d057f12f1c",
   "outputs": [],
   "execution_count": 1
  },
  {
   "metadata": {},
   "cell_type": "code",
   "outputs": [],
   "execution_count": null,
   "source": "",
   "id": "2c3de2bb8bc472e2"
  }
 ],
 "metadata": {
  "kernelspec": {
   "display_name": "Python 3",
   "language": "python",
   "name": "python3"
  },
  "language_info": {
   "codemirror_mode": {
    "name": "ipython",
    "version": 2
   },
   "file_extension": ".py",
   "mimetype": "text/x-python",
   "name": "python",
   "nbconvert_exporter": "python",
   "pygments_lexer": "ipython2",
   "version": "2.7.6"
  }
 },
 "nbformat": 4,
 "nbformat_minor": 5
}
